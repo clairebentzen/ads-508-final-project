{
 "cells": [
  {
   "cell_type": "markdown",
   "id": "f194958c-b20c-4004-a8f0-00ffbfc03a9e",
   "metadata": {},
   "source": [
    "# SC Cosmetics "
   ]
  },
  {
   "cell_type": "markdown",
   "id": "066c5673-af8a-4f05-8758-f1c5fecf49f7",
   "metadata": {},
   "source": [
    "## Import Libaries"
   ]
  },
  {
   "cell_type": "code",
   "execution_count": 2,
   "id": "e290df3a-2535-4597-aa18-5438464953f0",
   "metadata": {
    "tags": []
   },
   "outputs": [
    {
     "name": "stdout",
     "output_type": "stream",
     "text": [
      "\u001b[33mDEPRECATION: pyodbc 4.0.0-unsupported has a non-standard version number. pip 24.1 will enforce this behaviour change. A possible replacement is to upgrade to a newer version of pyodbc or contact the author to suggest that they release a version with a conforming version number. Discussion can be found at https://github.com/pypa/pip/issues/12063\u001b[0m\u001b[33m\n",
      "\u001b[0m\u001b[33mWARNING: Running pip as the 'root' user can result in broken permissions and conflicting behaviour with the system package manager. It is recommended to use a virtual environment instead: https://pip.pypa.io/warnings/venv\u001b[0m\u001b[33m\n",
      "\u001b[0m\u001b[33mDEPRECATION: pyodbc 4.0.0-unsupported has a non-standard version number. pip 24.1 will enforce this behaviour change. A possible replacement is to upgrade to a newer version of pyodbc or contact the author to suggest that they release a version with a conforming version number. Discussion can be found at https://github.com/pypa/pip/issues/12063\u001b[0m\u001b[33m\n",
      "\u001b[0m\u001b[33mWARNING: Running pip as the 'root' user can result in broken permissions and conflicting behaviour with the system package manager. It is recommended to use a virtual environment instead: https://pip.pypa.io/warnings/venv\u001b[0m\u001b[33m\n",
      "\u001b[0m\u001b[33mDEPRECATION: pyodbc 4.0.0-unsupported has a non-standard version number. pip 24.1 will enforce this behaviour change. A possible replacement is to upgrade to a newer version of pyodbc or contact the author to suggest that they release a version with a conforming version number. Discussion can be found at https://github.com/pypa/pip/issues/12063\u001b[0m\u001b[33m\n",
      "\u001b[0m\u001b[33mWARNING: Running pip as the 'root' user can result in broken permissions and conflicting behaviour with the system package manager. It is recommended to use a virtual environment instead: https://pip.pypa.io/warnings/venv\u001b[0m\u001b[33m\n",
      "\u001b[0m  \u001b[1;31merror\u001b[0m: \u001b[1msubprocess-exited-with-error\u001b[0m\n",
      "  \n",
      "  \u001b[31m×\u001b[0m \u001b[32mpython setup.py egg_info\u001b[0m did not run successfully.\n",
      "  \u001b[31m│\u001b[0m exit code: \u001b[1;36m1\u001b[0m\n",
      "  \u001b[31m╰─>\u001b[0m \u001b[31m[15 lines of output]\u001b[0m\n",
      "  \u001b[31m   \u001b[0m The 'sklearn' PyPI package is deprecated, use 'scikit-learn'\n",
      "  \u001b[31m   \u001b[0m rather than 'sklearn' for pip commands.\n",
      "  \u001b[31m   \u001b[0m \n",
      "  \u001b[31m   \u001b[0m Here is how to fix this error in the main use cases:\n",
      "  \u001b[31m   \u001b[0m - use 'pip install scikit-learn' rather than 'pip install sklearn'\n",
      "  \u001b[31m   \u001b[0m - replace 'sklearn' by 'scikit-learn' in your pip requirements files\n",
      "  \u001b[31m   \u001b[0m   (requirements.txt, setup.py, setup.cfg, Pipfile, etc ...)\n",
      "  \u001b[31m   \u001b[0m - if the 'sklearn' package is used by one of your dependencies,\n",
      "  \u001b[31m   \u001b[0m   it would be great if you take some time to track which package uses\n",
      "  \u001b[31m   \u001b[0m   'sklearn' instead of 'scikit-learn' and report it to their issue tracker\n",
      "  \u001b[31m   \u001b[0m - as a last resort, set the environment variable\n",
      "  \u001b[31m   \u001b[0m   SKLEARN_ALLOW_DEPRECATED_SKLEARN_PACKAGE_INSTALL=True to avoid this error\n",
      "  \u001b[31m   \u001b[0m \n",
      "  \u001b[31m   \u001b[0m More information is available at\n",
      "  \u001b[31m   \u001b[0m https://github.com/scikit-learn/sklearn-pypi-package\n",
      "  \u001b[31m   \u001b[0m \u001b[31m[end of output]\u001b[0m\n",
      "  \n",
      "  \u001b[1;35mnote\u001b[0m: This error originates from a subprocess, and is likely not a problem with pip.\n",
      "\u001b[1;31merror\u001b[0m: \u001b[1mmetadata-generation-failed\u001b[0m\n",
      "\n",
      "\u001b[31m×\u001b[0m Encountered error while generating package metadata.\n",
      "\u001b[31m╰─>\u001b[0m See above for output.\n",
      "\n",
      "\u001b[1;35mnote\u001b[0m: This is an issue with the package mentioned above, not pip.\n",
      "\u001b[1;36mhint\u001b[0m: See above for details.\n",
      "\u001b[33mDEPRECATION: pyodbc 4.0.0-unsupported has a non-standard version number. pip 24.1 will enforce this behaviour change. A possible replacement is to upgrade to a newer version of pyodbc or contact the author to suggest that they release a version with a conforming version number. Discussion can be found at https://github.com/pypa/pip/issues/12063\u001b[0m\u001b[33m\n",
      "\u001b[0m\u001b[33mWARNING: Running pip as the 'root' user can result in broken permissions and conflicting behaviour with the system package manager. It is recommended to use a virtual environment instead: https://pip.pypa.io/warnings/venv\u001b[0m\u001b[33m\n",
      "\u001b[0m\u001b[33mDEPRECATION: pyodbc 4.0.0-unsupported has a non-standard version number. pip 24.1 will enforce this behaviour change. A possible replacement is to upgrade to a newer version of pyodbc or contact the author to suggest that they release a version with a conforming version number. Discussion can be found at https://github.com/pypa/pip/issues/12063\u001b[0m\u001b[33m\n",
      "\u001b[0m\u001b[33mWARNING: Running pip as the 'root' user can result in broken permissions and conflicting behaviour with the system package manager. It is recommended to use a virtual environment instead: https://pip.pypa.io/warnings/venv\u001b[0m\u001b[33m\n",
      "\u001b[0msagemaker.config INFO - Not applying SDK defaults from location: /etc/xdg/sagemaker/config.yaml\n",
      "sagemaker.config INFO - Not applying SDK defaults from location: /root/.config/sagemaker/config.yaml\n"
     ]
    }
   ],
   "source": [
    "!pip install -q --upgrade pip\n",
    "!pip install -q pyathena\n",
    "!pip install -q imbalanced-learn\n",
    "!pip install -q smclarify==0.1\n",
    "!pip install -q --upgrade statsmodels\n",
    "!pip install -q --upgrade threadpoolctl\n",
    "\n",
    "import boto3\n",
    "import sagemaker\n",
    "import os\n",
    "\n",
    "import pandas as pd\n",
    "import numpy as np\n",
    "import seaborn as sns\n",
    "import matplotlib.pyplot as plt\n",
    "\n",
    "from pyathena import connect\n",
    "from imblearn.over_sampling import SMOTE\n",
    "\n",
    "from smclarify.bias import report\n",
    "from typing import Dict\n",
    "from collections import defaultdict\n",
    "\n",
    "from sklearn.feature_selection import chi2\n",
    "from scipy.stats import chi2_contingency\n",
    "from sklearn.preprocessing import LabelEncoder\n",
    "from statsmodels.stats.outliers_influence import variance_inflation_factor\n",
    "\n",
    "from sklearn.preprocessing import StandardScaler\n",
    "from sklearn.decomposition import PCA\n",
    "from sklearn.metrics import accuracy_score, precision_score, recall_score, confusion_matrix\n",
    "from sklearn.metrics import roc_curve, roc_auc_score\n",
    "from sklearn.metrics import precision_recall_curve, average_precision_score\n",
    "\n",
    "from sklearn.model_selection import train_test_split\n",
    "\n",
    "%matplotlib inline\n",
    "%config InlineBackend.figure_format='retina'"
   ]
  },
  {
   "cell_type": "markdown",
   "id": "b2bdd5b1-b216-439b-890d-954d6afe3f90",
   "metadata": {},
   "source": [
    "## Copy Data from S3\n",
    "https://sc-cosmetics.s3.amazonaws.com/chemicals-in-cosmetics/cosmetic_chemicals.csv\n",
    "\n",
    "https://sc-cosmetics.s3.amazonaws.com/cosmetic-ingedients-ranking-pricing/cosmetics.csv\n",
    "\n",
    "https://sc-cosmetics.s3.amazonaws.com/customer-propensity-to-purchase/customer.csv"
   ]
  },
  {
   "cell_type": "code",
   "execution_count": 3,
   "id": "fc5d8dd7-b8c0-4364-8e77-ae53ddcc60c1",
   "metadata": {
    "tags": []
   },
   "outputs": [
    {
     "name": "stdout",
     "output_type": "stream",
     "text": [
      "sagemaker.config INFO - Not applying SDK defaults from location: /etc/xdg/sagemaker/config.yaml\n",
      "sagemaker.config INFO - Not applying SDK defaults from location: /root/.config/sagemaker/config.yaml\n",
      "sagemaker.config INFO - Not applying SDK defaults from location: /etc/xdg/sagemaker/config.yaml\n",
      "sagemaker.config INFO - Not applying SDK defaults from location: /root/.config/sagemaker/config.yaml\n"
     ]
    }
   ],
   "source": [
    "# define the S3 bucket, role, and region\n",
    "sess = sagemaker.Session()\n",
    "bucket = \"sc-cosmetics\"  \n",
    "role = sagemaker.get_execution_role()\n",
    "region = boto3.Session().region_name\n",
    "account_id = boto3.client(\"sts\").get_caller_identity().get(\"Account\")\n",
    "\n",
    "sm = boto3.Session().client(service_name=\"sagemaker\", region_name=region)\n",
    "\n",
    "# define S3 paths for the source (public) and destination (private) locations\n",
    "s3_public_path_chemicals = \"s3://sc-cosmetics/chemicals-in-cosmetics\"\n",
    "s3_public_path_cosmetics = \"s3://sc-cosmetics/cosmetic-ingredients-ranking-pricing\"\n",
    "s3_public_path_customer = \"s3://sc-cosmetics/customer-propensity-to-purchase\"\n",
    "s3_private_path = f\"s3://{bucket}/\"  \n",
    "s3_private_path_chemicals = f\"s3://{bucket}/chemicals-in-cosmetics\"\n",
    "s3_private_path_cosmetics = f\"s3://{bucket}/cosmetic-ingredients-ranking-pricing\"\n",
    "s3_private_path_customer = f\"s3://{bucket}/customer-propensity-to-purchase\""
   ]
  },
  {
   "cell_type": "code",
   "execution_count": 4,
   "id": "f2e680c7-6afd-4515-ac93-46420df3a659",
   "metadata": {
    "tags": []
   },
   "outputs": [
    {
     "name": "stdout",
     "output_type": "stream",
     "text": [
      "copy failed: s3://sc-cosmetics/chemicals-in-cosmetics/cosmetic_chemicals.csv to s3://sc-cosmetics/chemicals-in-cosmetics/cosmetic_chemicals.csv An error occurred (AccessDenied) when calling the UploadPartCopy operation: Access Denied\n",
      "copy failed: s3://sc-cosmetics/cosmetic-ingredients-ranking-pricing/cosmetics.csv to s3://sc-cosmetics/cosmetic-ingredients-ranking-pricing/cosmetics.csv An error occurred (AccessDenied) when calling the CopyObject operation: Access Denied\n",
      "copy failed: s3://sc-cosmetics/customer-propensity-to-purchase/customer.csv to s3://sc-cosmetics/customer-propensity-to-purchase/customer.csv An error occurred (AccessDenied) when calling the UploadPartCopy operation: Access Denied\n"
     ]
    }
   ],
   "source": [
    "# copy data from the public S3 buckets to our private S3 buckets\n",
    "!aws s3 cp --recursive $s3_public_path_chemicals/ $s3_private_path_chemicals/\n",
    "!aws s3 cp --recursive $s3_public_path_cosmetics/ $s3_private_path_cosmetics/\n",
    "!aws s3 cp --recursive $s3_public_path_customer/ $s3_private_path_customer/"
   ]
  },
  {
   "cell_type": "code",
   "execution_count": 5,
   "id": "a450a35f-fd0e-4dd4-ba12-71acbf87c085",
   "metadata": {
    "tags": []
   },
   "outputs": [
    {
     "name": "stdout",
     "output_type": "stream",
     "text": [
      "Files in private S3 bucket - Chemicals:\n",
      "2024-03-31 22:44:30          0 \n",
      "2024-04-13 19:07:18   24191162 cosmetic_chemicals.csv\n",
      "\n",
      "Files in private S3 bucket - Cosmetics:\n",
      "2024-04-13 19:07:21    1157561 cosmetics.csv\n",
      "\n",
      "Files in private S3 bucket - Customer:\n",
      "2024-04-13 19:07:22   35077586 customer.csv\n"
     ]
    }
   ],
   "source": [
    "# list files in private S3 bucket\n",
    "print(\"Files in private S3 bucket - Chemicals:\")\n",
    "!aws s3 ls $s3_private_path_chemicals/\n",
    "\n",
    "print(\"\\nFiles in private S3 bucket - Cosmetics:\")\n",
    "!aws s3 ls $s3_private_path_cosmetics/\n",
    "\n",
    "print(\"\\nFiles in private S3 bucket - Customer:\")\n",
    "!aws s3 ls $s3_private_path_customer/"
   ]
  },
  {
   "cell_type": "code",
   "execution_count": 6,
   "id": "83d0c46a-42ac-450d-b60b-426bdc6f919a",
   "metadata": {
    "tags": []
   },
   "outputs": [
    {
     "name": "stderr",
     "output_type": "stream",
     "text": [
      "/opt/conda/lib/python3.8/site-packages/fsspec/registry.py:273: UserWarning: Your installed version of s3fs is very old and known to cause\n",
      "severe performance issues, see also https://github.com/dask/dask/issues/10276\n",
      "\n",
      "To fix, you should specify a lower version bound on s3fs, or\n",
      "update the current installation.\n",
      "\n",
      "  warnings.warn(s3_msg)\n"
     ]
    },
    {
     "ename": "PermissionError",
     "evalue": "Forbidden",
     "output_type": "error",
     "traceback": [
      "\u001b[0;31m---------------------------------------------------------------------------\u001b[0m",
      "\u001b[0;31mClientError\u001b[0m                               Traceback (most recent call last)",
      "File \u001b[0;32m/opt/conda/lib/python3.8/site-packages/s3fs/core.py:529\u001b[0m, in \u001b[0;36mS3FileSystem.info\u001b[0;34m(self, path, version_id, refresh)\u001b[0m\n\u001b[1;32m    528\u001b[0m \u001b[38;5;28;01mtry\u001b[39;00m:\n\u001b[0;32m--> 529\u001b[0m     out \u001b[38;5;241m=\u001b[39m \u001b[38;5;28;43mself\u001b[39;49m\u001b[38;5;241;43m.\u001b[39;49m\u001b[43m_call_s3\u001b[49m\u001b[43m(\u001b[49m\u001b[38;5;28;43mself\u001b[39;49m\u001b[38;5;241;43m.\u001b[39;49m\u001b[43ms3\u001b[49m\u001b[38;5;241;43m.\u001b[39;49m\u001b[43mhead_object\u001b[49m\u001b[43m,\u001b[49m\u001b[43m \u001b[49m\u001b[43mkwargs\u001b[49m\u001b[43m,\u001b[49m\u001b[43m \u001b[49m\u001b[43mBucket\u001b[49m\u001b[38;5;241;43m=\u001b[39;49m\u001b[43mbucket\u001b[49m\u001b[43m,\u001b[49m\n\u001b[1;32m    530\u001b[0m \u001b[43m                        \u001b[49m\u001b[43mKey\u001b[49m\u001b[38;5;241;43m=\u001b[39;49m\u001b[43mkey\u001b[49m\u001b[43m,\u001b[49m\u001b[43m \u001b[49m\u001b[38;5;241;43m*\u001b[39;49m\u001b[38;5;241;43m*\u001b[39;49m\u001b[43mversion_id_kw\u001b[49m\u001b[43m(\u001b[49m\u001b[43mversion_id\u001b[49m\u001b[43m)\u001b[49m\u001b[43m,\u001b[49m\u001b[43m \u001b[49m\u001b[38;5;241;43m*\u001b[39;49m\u001b[38;5;241;43m*\u001b[39;49m\u001b[38;5;28;43mself\u001b[39;49m\u001b[38;5;241;43m.\u001b[39;49m\u001b[43mreq_kw\u001b[49m\u001b[43m)\u001b[49m\n\u001b[1;32m    531\u001b[0m     \u001b[38;5;28;01mreturn\u001b[39;00m {\n\u001b[1;32m    532\u001b[0m         \u001b[38;5;124m'\u001b[39m\u001b[38;5;124mETag\u001b[39m\u001b[38;5;124m'\u001b[39m: out[\u001b[38;5;124m'\u001b[39m\u001b[38;5;124mETag\u001b[39m\u001b[38;5;124m'\u001b[39m],\n\u001b[1;32m    533\u001b[0m         \u001b[38;5;124m'\u001b[39m\u001b[38;5;124mKey\u001b[39m\u001b[38;5;124m'\u001b[39m: \u001b[38;5;124m'\u001b[39m\u001b[38;5;124m/\u001b[39m\u001b[38;5;124m'\u001b[39m\u001b[38;5;241m.\u001b[39mjoin([bucket, key]),\n\u001b[0;32m   (...)\u001b[0m\n\u001b[1;32m    540\u001b[0m         \u001b[38;5;124m'\u001b[39m\u001b[38;5;124mVersionId\u001b[39m\u001b[38;5;124m'\u001b[39m: out\u001b[38;5;241m.\u001b[39mget(\u001b[38;5;124m'\u001b[39m\u001b[38;5;124mVersionId\u001b[39m\u001b[38;5;124m'\u001b[39m)\n\u001b[1;32m    541\u001b[0m     }\n",
      "File \u001b[0;32m/opt/conda/lib/python3.8/site-packages/s3fs/core.py:200\u001b[0m, in \u001b[0;36mS3FileSystem._call_s3\u001b[0;34m(self, method, *akwarglist, **kwargs)\u001b[0m\n\u001b[1;32m    198\u001b[0m additional_kwargs \u001b[38;5;241m=\u001b[39m \u001b[38;5;28mself\u001b[39m\u001b[38;5;241m.\u001b[39m_get_s3_method_kwargs(method, \u001b[38;5;241m*\u001b[39makwarglist,\n\u001b[1;32m    199\u001b[0m                                                \u001b[38;5;241m*\u001b[39m\u001b[38;5;241m*\u001b[39mkwargs)\n\u001b[0;32m--> 200\u001b[0m \u001b[38;5;28;01mreturn\u001b[39;00m \u001b[43mmethod\u001b[49m\u001b[43m(\u001b[49m\u001b[38;5;241;43m*\u001b[39;49m\u001b[38;5;241;43m*\u001b[39;49m\u001b[43madditional_kwargs\u001b[49m\u001b[43m)\u001b[49m\n",
      "File \u001b[0;32m/opt/conda/lib/python3.8/site-packages/botocore/client.py:553\u001b[0m, in \u001b[0;36mClientCreator._create_api_method.<locals>._api_call\u001b[0;34m(self, *args, **kwargs)\u001b[0m\n\u001b[1;32m    552\u001b[0m \u001b[38;5;66;03m# The \"self\" in this scope is referring to the BaseClient.\u001b[39;00m\n\u001b[0;32m--> 553\u001b[0m \u001b[38;5;28;01mreturn\u001b[39;00m \u001b[38;5;28;43mself\u001b[39;49m\u001b[38;5;241;43m.\u001b[39;49m\u001b[43m_make_api_call\u001b[49m\u001b[43m(\u001b[49m\u001b[43moperation_name\u001b[49m\u001b[43m,\u001b[49m\u001b[43m \u001b[49m\u001b[43mkwargs\u001b[49m\u001b[43m)\u001b[49m\n",
      "File \u001b[0;32m/opt/conda/lib/python3.8/site-packages/botocore/client.py:1009\u001b[0m, in \u001b[0;36mBaseClient._make_api_call\u001b[0;34m(self, operation_name, api_params)\u001b[0m\n\u001b[1;32m   1008\u001b[0m     error_class \u001b[38;5;241m=\u001b[39m \u001b[38;5;28mself\u001b[39m\u001b[38;5;241m.\u001b[39mexceptions\u001b[38;5;241m.\u001b[39mfrom_code(error_code)\n\u001b[0;32m-> 1009\u001b[0m     \u001b[38;5;28;01mraise\u001b[39;00m error_class(parsed_response, operation_name)\n\u001b[1;32m   1010\u001b[0m \u001b[38;5;28;01melse\u001b[39;00m:\n",
      "\u001b[0;31mClientError\u001b[0m: An error occurred (403) when calling the HeadObject operation: Forbidden",
      "\nDuring handling of the above exception, another exception occurred:\n",
      "\u001b[0;31mPermissionError\u001b[0m                           Traceback (most recent call last)",
      "File \u001b[0;32m/opt/conda/lib/python3.8/site-packages/pandas/io/common.py:414\u001b[0m, in \u001b[0;36m_get_filepath_or_buffer\u001b[0;34m(filepath_or_buffer, encoding, compression, mode, storage_options)\u001b[0m\n\u001b[1;32m    413\u001b[0m \u001b[38;5;28;01mtry\u001b[39;00m:\n\u001b[0;32m--> 414\u001b[0m     file_obj \u001b[38;5;241m=\u001b[39m \u001b[43mfsspec\u001b[49m\u001b[38;5;241;43m.\u001b[39;49m\u001b[43mopen\u001b[49m\u001b[43m(\u001b[49m\n\u001b[1;32m    415\u001b[0m \u001b[43m        \u001b[49m\u001b[43mfilepath_or_buffer\u001b[49m\u001b[43m,\u001b[49m\u001b[43m \u001b[49m\u001b[43mmode\u001b[49m\u001b[38;5;241;43m=\u001b[39;49m\u001b[43mfsspec_mode\u001b[49m\u001b[43m,\u001b[49m\u001b[43m \u001b[49m\u001b[38;5;241;43m*\u001b[39;49m\u001b[38;5;241;43m*\u001b[39;49m\u001b[43m(\u001b[49m\u001b[43mstorage_options\u001b[49m\u001b[43m \u001b[49m\u001b[38;5;129;43;01mor\u001b[39;49;00m\u001b[43m \u001b[49m\u001b[43m{\u001b[49m\u001b[43m}\u001b[49m\u001b[43m)\u001b[49m\n\u001b[1;32m    416\u001b[0m \u001b[43m    \u001b[49m\u001b[43m)\u001b[49m\u001b[38;5;241;43m.\u001b[39;49m\u001b[43mopen\u001b[49m\u001b[43m(\u001b[49m\u001b[43m)\u001b[49m\n\u001b[1;32m    417\u001b[0m \u001b[38;5;66;03m# GH 34626 Reads from Public Buckets without Credentials needs anon=True\u001b[39;00m\n",
      "File \u001b[0;32m/opt/conda/lib/python3.8/site-packages/fsspec/core.py:135\u001b[0m, in \u001b[0;36mOpenFile.open\u001b[0;34m(self)\u001b[0m\n\u001b[1;32m    129\u001b[0m \u001b[38;5;250m\u001b[39m\u001b[38;5;124;03m\"\"\"Materialise this as a real open file without context\u001b[39;00m\n\u001b[1;32m    130\u001b[0m \n\u001b[1;32m    131\u001b[0m \u001b[38;5;124;03mThe OpenFile object should be explicitly closed to avoid enclosed file\u001b[39;00m\n\u001b[1;32m    132\u001b[0m \u001b[38;5;124;03minstances persisting. You must, therefore, keep a reference to the OpenFile\u001b[39;00m\n\u001b[1;32m    133\u001b[0m \u001b[38;5;124;03mduring the life of the file-like it generates.\u001b[39;00m\n\u001b[1;32m    134\u001b[0m \u001b[38;5;124;03m\"\"\"\u001b[39;00m\n\u001b[0;32m--> 135\u001b[0m \u001b[38;5;28;01mreturn\u001b[39;00m \u001b[38;5;28;43mself\u001b[39;49m\u001b[38;5;241;43m.\u001b[39;49m\u001b[38;5;21;43m__enter__\u001b[39;49m\u001b[43m(\u001b[49m\u001b[43m)\u001b[49m\n",
      "File \u001b[0;32m/opt/conda/lib/python3.8/site-packages/fsspec/core.py:103\u001b[0m, in \u001b[0;36mOpenFile.__enter__\u001b[0;34m(self)\u001b[0m\n\u001b[1;32m    101\u001b[0m mode \u001b[38;5;241m=\u001b[39m \u001b[38;5;28mself\u001b[39m\u001b[38;5;241m.\u001b[39mmode\u001b[38;5;241m.\u001b[39mreplace(\u001b[38;5;124m\"\u001b[39m\u001b[38;5;124mt\u001b[39m\u001b[38;5;124m\"\u001b[39m, \u001b[38;5;124m\"\u001b[39m\u001b[38;5;124m\"\u001b[39m)\u001b[38;5;241m.\u001b[39mreplace(\u001b[38;5;124m\"\u001b[39m\u001b[38;5;124mb\u001b[39m\u001b[38;5;124m\"\u001b[39m, \u001b[38;5;124m\"\u001b[39m\u001b[38;5;124m\"\u001b[39m) \u001b[38;5;241m+\u001b[39m \u001b[38;5;124m\"\u001b[39m\u001b[38;5;124mb\u001b[39m\u001b[38;5;124m\"\u001b[39m\n\u001b[0;32m--> 103\u001b[0m f \u001b[38;5;241m=\u001b[39m \u001b[38;5;28;43mself\u001b[39;49m\u001b[38;5;241;43m.\u001b[39;49m\u001b[43mfs\u001b[49m\u001b[38;5;241;43m.\u001b[39;49m\u001b[43mopen\u001b[49m\u001b[43m(\u001b[49m\u001b[38;5;28;43mself\u001b[39;49m\u001b[38;5;241;43m.\u001b[39;49m\u001b[43mpath\u001b[49m\u001b[43m,\u001b[49m\u001b[43m \u001b[49m\u001b[43mmode\u001b[49m\u001b[38;5;241;43m=\u001b[39;49m\u001b[43mmode\u001b[49m\u001b[43m)\u001b[49m\n\u001b[1;32m    105\u001b[0m \u001b[38;5;28mself\u001b[39m\u001b[38;5;241m.\u001b[39mfobjects \u001b[38;5;241m=\u001b[39m [f]\n",
      "File \u001b[0;32m/opt/conda/lib/python3.8/site-packages/fsspec/spec.py:1293\u001b[0m, in \u001b[0;36mAbstractFileSystem.open\u001b[0;34m(self, path, mode, block_size, cache_options, compression, **kwargs)\u001b[0m\n\u001b[1;32m   1292\u001b[0m ac \u001b[38;5;241m=\u001b[39m kwargs\u001b[38;5;241m.\u001b[39mpop(\u001b[38;5;124m\"\u001b[39m\u001b[38;5;124mautocommit\u001b[39m\u001b[38;5;124m\"\u001b[39m, \u001b[38;5;129;01mnot\u001b[39;00m \u001b[38;5;28mself\u001b[39m\u001b[38;5;241m.\u001b[39m_intrans)\n\u001b[0;32m-> 1293\u001b[0m f \u001b[38;5;241m=\u001b[39m \u001b[38;5;28;43mself\u001b[39;49m\u001b[38;5;241;43m.\u001b[39;49m\u001b[43m_open\u001b[49m\u001b[43m(\u001b[49m\n\u001b[1;32m   1294\u001b[0m \u001b[43m    \u001b[49m\u001b[43mpath\u001b[49m\u001b[43m,\u001b[49m\n\u001b[1;32m   1295\u001b[0m \u001b[43m    \u001b[49m\u001b[43mmode\u001b[49m\u001b[38;5;241;43m=\u001b[39;49m\u001b[43mmode\u001b[49m\u001b[43m,\u001b[49m\n\u001b[1;32m   1296\u001b[0m \u001b[43m    \u001b[49m\u001b[43mblock_size\u001b[49m\u001b[38;5;241;43m=\u001b[39;49m\u001b[43mblock_size\u001b[49m\u001b[43m,\u001b[49m\n\u001b[1;32m   1297\u001b[0m \u001b[43m    \u001b[49m\u001b[43mautocommit\u001b[49m\u001b[38;5;241;43m=\u001b[39;49m\u001b[43mac\u001b[49m\u001b[43m,\u001b[49m\n\u001b[1;32m   1298\u001b[0m \u001b[43m    \u001b[49m\u001b[43mcache_options\u001b[49m\u001b[38;5;241;43m=\u001b[39;49m\u001b[43mcache_options\u001b[49m\u001b[43m,\u001b[49m\n\u001b[1;32m   1299\u001b[0m \u001b[43m    \u001b[49m\u001b[38;5;241;43m*\u001b[39;49m\u001b[38;5;241;43m*\u001b[39;49m\u001b[43mkwargs\u001b[49m\u001b[43m,\u001b[49m\n\u001b[1;32m   1300\u001b[0m \u001b[43m\u001b[49m\u001b[43m)\u001b[49m\n\u001b[1;32m   1301\u001b[0m \u001b[38;5;28;01mif\u001b[39;00m compression \u001b[38;5;129;01mis\u001b[39;00m \u001b[38;5;129;01mnot\u001b[39;00m \u001b[38;5;28;01mNone\u001b[39;00m:\n",
      "File \u001b[0;32m/opt/conda/lib/python3.8/site-packages/s3fs/core.py:375\u001b[0m, in \u001b[0;36mS3FileSystem._open\u001b[0;34m(self, path, mode, block_size, acl, version_id, fill_cache, cache_type, autocommit, requester_pays, **kwargs)\u001b[0m\n\u001b[1;32m    373\u001b[0m     cache_type \u001b[38;5;241m=\u001b[39m \u001b[38;5;28mself\u001b[39m\u001b[38;5;241m.\u001b[39mdefault_cache_type\n\u001b[0;32m--> 375\u001b[0m \u001b[38;5;28;01mreturn\u001b[39;00m \u001b[43mS3File\u001b[49m\u001b[43m(\u001b[49m\u001b[38;5;28;43mself\u001b[39;49m\u001b[43m,\u001b[49m\u001b[43m \u001b[49m\u001b[43mpath\u001b[49m\u001b[43m,\u001b[49m\u001b[43m \u001b[49m\u001b[43mmode\u001b[49m\u001b[43m,\u001b[49m\u001b[43m \u001b[49m\u001b[43mblock_size\u001b[49m\u001b[38;5;241;43m=\u001b[39;49m\u001b[43mblock_size\u001b[49m\u001b[43m,\u001b[49m\u001b[43m \u001b[49m\u001b[43macl\u001b[49m\u001b[38;5;241;43m=\u001b[39;49m\u001b[43macl\u001b[49m\u001b[43m,\u001b[49m\n\u001b[1;32m    376\u001b[0m \u001b[43m              \u001b[49m\u001b[43mversion_id\u001b[49m\u001b[38;5;241;43m=\u001b[39;49m\u001b[43mversion_id\u001b[49m\u001b[43m,\u001b[49m\u001b[43m \u001b[49m\u001b[43mfill_cache\u001b[49m\u001b[38;5;241;43m=\u001b[39;49m\u001b[43mfill_cache\u001b[49m\u001b[43m,\u001b[49m\n\u001b[1;32m    377\u001b[0m \u001b[43m              \u001b[49m\u001b[43ms3_additional_kwargs\u001b[49m\u001b[38;5;241;43m=\u001b[39;49m\u001b[43mkw\u001b[49m\u001b[43m,\u001b[49m\u001b[43m \u001b[49m\u001b[43mcache_type\u001b[49m\u001b[38;5;241;43m=\u001b[39;49m\u001b[43mcache_type\u001b[49m\u001b[43m,\u001b[49m\n\u001b[1;32m    378\u001b[0m \u001b[43m              \u001b[49m\u001b[43mautocommit\u001b[49m\u001b[38;5;241;43m=\u001b[39;49m\u001b[43mautocommit\u001b[49m\u001b[43m,\u001b[49m\u001b[43m \u001b[49m\u001b[43mrequester_pays\u001b[49m\u001b[38;5;241;43m=\u001b[39;49m\u001b[43mrequester_pays\u001b[49m\u001b[43m)\u001b[49m\n",
      "File \u001b[0;32m/opt/conda/lib/python3.8/site-packages/s3fs/core.py:1096\u001b[0m, in \u001b[0;36mS3File.__init__\u001b[0;34m(self, s3, path, mode, block_size, acl, version_id, fill_cache, s3_additional_kwargs, autocommit, cache_type, requester_pays)\u001b[0m\n\u001b[1;32m   1095\u001b[0m \u001b[38;5;28mself\u001b[39m\u001b[38;5;241m.\u001b[39mreq_kw \u001b[38;5;241m=\u001b[39m {\u001b[38;5;124m'\u001b[39m\u001b[38;5;124mRequestPayer\u001b[39m\u001b[38;5;124m'\u001b[39m: \u001b[38;5;124m'\u001b[39m\u001b[38;5;124mrequester\u001b[39m\u001b[38;5;124m'\u001b[39m} \u001b[38;5;28;01mif\u001b[39;00m requester_pays \u001b[38;5;28;01melse\u001b[39;00m {}\n\u001b[0;32m-> 1096\u001b[0m \u001b[38;5;28;43msuper\u001b[39;49m\u001b[43m(\u001b[49m\u001b[43m)\u001b[49m\u001b[38;5;241;43m.\u001b[39;49m\u001b[38;5;21;43m__init__\u001b[39;49m\u001b[43m(\u001b[49m\u001b[43ms3\u001b[49m\u001b[43m,\u001b[49m\u001b[43m \u001b[49m\u001b[43mpath\u001b[49m\u001b[43m,\u001b[49m\u001b[43m \u001b[49m\u001b[43mmode\u001b[49m\u001b[43m,\u001b[49m\u001b[43m \u001b[49m\u001b[43mblock_size\u001b[49m\u001b[43m,\u001b[49m\u001b[43m \u001b[49m\u001b[43mautocommit\u001b[49m\u001b[38;5;241;43m=\u001b[39;49m\u001b[43mautocommit\u001b[49m\u001b[43m,\u001b[49m\n\u001b[1;32m   1097\u001b[0m \u001b[43m                 \u001b[49m\u001b[43mcache_type\u001b[49m\u001b[38;5;241;43m=\u001b[39;49m\u001b[43mcache_type\u001b[49m\u001b[43m)\u001b[49m\n\u001b[1;32m   1098\u001b[0m \u001b[38;5;28mself\u001b[39m\u001b[38;5;241m.\u001b[39ms3 \u001b[38;5;241m=\u001b[39m \u001b[38;5;28mself\u001b[39m\u001b[38;5;241m.\u001b[39mfs  \u001b[38;5;66;03m# compatibility\u001b[39;00m\n",
      "File \u001b[0;32m/opt/conda/lib/python3.8/site-packages/fsspec/spec.py:1651\u001b[0m, in \u001b[0;36mAbstractBufferedFile.__init__\u001b[0;34m(self, fs, path, mode, block_size, autocommit, cache_type, cache_options, size, **kwargs)\u001b[0m\n\u001b[1;32m   1650\u001b[0m \u001b[38;5;28;01melse\u001b[39;00m:\n\u001b[0;32m-> 1651\u001b[0m     \u001b[38;5;28mself\u001b[39m\u001b[38;5;241m.\u001b[39msize \u001b[38;5;241m=\u001b[39m \u001b[38;5;28;43mself\u001b[39;49m\u001b[38;5;241;43m.\u001b[39;49m\u001b[43mdetails\u001b[49m[\u001b[38;5;124m\"\u001b[39m\u001b[38;5;124msize\u001b[39m\u001b[38;5;124m\"\u001b[39m]\n\u001b[1;32m   1652\u001b[0m \u001b[38;5;28mself\u001b[39m\u001b[38;5;241m.\u001b[39mcache \u001b[38;5;241m=\u001b[39m caches[cache_type](\n\u001b[1;32m   1653\u001b[0m     \u001b[38;5;28mself\u001b[39m\u001b[38;5;241m.\u001b[39mblocksize, \u001b[38;5;28mself\u001b[39m\u001b[38;5;241m.\u001b[39m_fetch_range, \u001b[38;5;28mself\u001b[39m\u001b[38;5;241m.\u001b[39msize, \u001b[38;5;241m*\u001b[39m\u001b[38;5;241m*\u001b[39mcache_options\n\u001b[1;32m   1654\u001b[0m )\n",
      "File \u001b[0;32m/opt/conda/lib/python3.8/site-packages/fsspec/spec.py:1664\u001b[0m, in \u001b[0;36mAbstractBufferedFile.details\u001b[0;34m(self)\u001b[0m\n\u001b[1;32m   1663\u001b[0m \u001b[38;5;28;01mif\u001b[39;00m \u001b[38;5;28mself\u001b[39m\u001b[38;5;241m.\u001b[39m_details \u001b[38;5;129;01mis\u001b[39;00m \u001b[38;5;28;01mNone\u001b[39;00m:\n\u001b[0;32m-> 1664\u001b[0m     \u001b[38;5;28mself\u001b[39m\u001b[38;5;241m.\u001b[39m_details \u001b[38;5;241m=\u001b[39m \u001b[38;5;28;43mself\u001b[39;49m\u001b[38;5;241;43m.\u001b[39;49m\u001b[43mfs\u001b[49m\u001b[38;5;241;43m.\u001b[39;49m\u001b[43minfo\u001b[49m\u001b[43m(\u001b[49m\u001b[38;5;28;43mself\u001b[39;49m\u001b[38;5;241;43m.\u001b[39;49m\u001b[43mpath\u001b[49m\u001b[43m)\u001b[49m\n\u001b[1;32m   1665\u001b[0m \u001b[38;5;28;01mreturn\u001b[39;00m \u001b[38;5;28mself\u001b[39m\u001b[38;5;241m.\u001b[39m_details\n",
      "File \u001b[0;32m/opt/conda/lib/python3.8/site-packages/s3fs/core.py:548\u001b[0m, in \u001b[0;36mS3FileSystem.info\u001b[0;34m(self, path, version_id, refresh)\u001b[0m\n\u001b[1;32m    547\u001b[0m     \u001b[38;5;28;01melse\u001b[39;00m:\n\u001b[0;32m--> 548\u001b[0m         \u001b[38;5;28;01mraise\u001b[39;00m ee\n\u001b[1;32m    549\u001b[0m \u001b[38;5;28;01mexcept\u001b[39;00m ParamValidationError \u001b[38;5;28;01mas\u001b[39;00m e:\n",
      "\u001b[0;31mPermissionError\u001b[0m: Forbidden",
      "\nDuring handling of the above exception, another exception occurred:\n",
      "\u001b[0;31mClientError\u001b[0m                               Traceback (most recent call last)",
      "File \u001b[0;32m/opt/conda/lib/python3.8/site-packages/s3fs/core.py:529\u001b[0m, in \u001b[0;36mS3FileSystem.info\u001b[0;34m(self, path, version_id, refresh)\u001b[0m\n\u001b[1;32m    528\u001b[0m \u001b[38;5;28;01mtry\u001b[39;00m:\n\u001b[0;32m--> 529\u001b[0m     out \u001b[38;5;241m=\u001b[39m \u001b[38;5;28;43mself\u001b[39;49m\u001b[38;5;241;43m.\u001b[39;49m\u001b[43m_call_s3\u001b[49m\u001b[43m(\u001b[49m\u001b[38;5;28;43mself\u001b[39;49m\u001b[38;5;241;43m.\u001b[39;49m\u001b[43ms3\u001b[49m\u001b[38;5;241;43m.\u001b[39;49m\u001b[43mhead_object\u001b[49m\u001b[43m,\u001b[49m\u001b[43m \u001b[49m\u001b[43mkwargs\u001b[49m\u001b[43m,\u001b[49m\u001b[43m \u001b[49m\u001b[43mBucket\u001b[49m\u001b[38;5;241;43m=\u001b[39;49m\u001b[43mbucket\u001b[49m\u001b[43m,\u001b[49m\n\u001b[1;32m    530\u001b[0m \u001b[43m                        \u001b[49m\u001b[43mKey\u001b[49m\u001b[38;5;241;43m=\u001b[39;49m\u001b[43mkey\u001b[49m\u001b[43m,\u001b[49m\u001b[43m \u001b[49m\u001b[38;5;241;43m*\u001b[39;49m\u001b[38;5;241;43m*\u001b[39;49m\u001b[43mversion_id_kw\u001b[49m\u001b[43m(\u001b[49m\u001b[43mversion_id\u001b[49m\u001b[43m)\u001b[49m\u001b[43m,\u001b[49m\u001b[43m \u001b[49m\u001b[38;5;241;43m*\u001b[39;49m\u001b[38;5;241;43m*\u001b[39;49m\u001b[38;5;28;43mself\u001b[39;49m\u001b[38;5;241;43m.\u001b[39;49m\u001b[43mreq_kw\u001b[49m\u001b[43m)\u001b[49m\n\u001b[1;32m    531\u001b[0m     \u001b[38;5;28;01mreturn\u001b[39;00m {\n\u001b[1;32m    532\u001b[0m         \u001b[38;5;124m'\u001b[39m\u001b[38;5;124mETag\u001b[39m\u001b[38;5;124m'\u001b[39m: out[\u001b[38;5;124m'\u001b[39m\u001b[38;5;124mETag\u001b[39m\u001b[38;5;124m'\u001b[39m],\n\u001b[1;32m    533\u001b[0m         \u001b[38;5;124m'\u001b[39m\u001b[38;5;124mKey\u001b[39m\u001b[38;5;124m'\u001b[39m: \u001b[38;5;124m'\u001b[39m\u001b[38;5;124m/\u001b[39m\u001b[38;5;124m'\u001b[39m\u001b[38;5;241m.\u001b[39mjoin([bucket, key]),\n\u001b[0;32m   (...)\u001b[0m\n\u001b[1;32m    540\u001b[0m         \u001b[38;5;124m'\u001b[39m\u001b[38;5;124mVersionId\u001b[39m\u001b[38;5;124m'\u001b[39m: out\u001b[38;5;241m.\u001b[39mget(\u001b[38;5;124m'\u001b[39m\u001b[38;5;124mVersionId\u001b[39m\u001b[38;5;124m'\u001b[39m)\n\u001b[1;32m    541\u001b[0m     }\n",
      "File \u001b[0;32m/opt/conda/lib/python3.8/site-packages/s3fs/core.py:200\u001b[0m, in \u001b[0;36mS3FileSystem._call_s3\u001b[0;34m(self, method, *akwarglist, **kwargs)\u001b[0m\n\u001b[1;32m    198\u001b[0m additional_kwargs \u001b[38;5;241m=\u001b[39m \u001b[38;5;28mself\u001b[39m\u001b[38;5;241m.\u001b[39m_get_s3_method_kwargs(method, \u001b[38;5;241m*\u001b[39makwarglist,\n\u001b[1;32m    199\u001b[0m                                                \u001b[38;5;241m*\u001b[39m\u001b[38;5;241m*\u001b[39mkwargs)\n\u001b[0;32m--> 200\u001b[0m \u001b[38;5;28;01mreturn\u001b[39;00m \u001b[43mmethod\u001b[49m\u001b[43m(\u001b[49m\u001b[38;5;241;43m*\u001b[39;49m\u001b[38;5;241;43m*\u001b[39;49m\u001b[43madditional_kwargs\u001b[49m\u001b[43m)\u001b[49m\n",
      "File \u001b[0;32m/opt/conda/lib/python3.8/site-packages/botocore/client.py:553\u001b[0m, in \u001b[0;36mClientCreator._create_api_method.<locals>._api_call\u001b[0;34m(self, *args, **kwargs)\u001b[0m\n\u001b[1;32m    552\u001b[0m \u001b[38;5;66;03m# The \"self\" in this scope is referring to the BaseClient.\u001b[39;00m\n\u001b[0;32m--> 553\u001b[0m \u001b[38;5;28;01mreturn\u001b[39;00m \u001b[38;5;28;43mself\u001b[39;49m\u001b[38;5;241;43m.\u001b[39;49m\u001b[43m_make_api_call\u001b[49m\u001b[43m(\u001b[49m\u001b[43moperation_name\u001b[49m\u001b[43m,\u001b[49m\u001b[43m \u001b[49m\u001b[43mkwargs\u001b[49m\u001b[43m)\u001b[49m\n",
      "File \u001b[0;32m/opt/conda/lib/python3.8/site-packages/botocore/client.py:1009\u001b[0m, in \u001b[0;36mBaseClient._make_api_call\u001b[0;34m(self, operation_name, api_params)\u001b[0m\n\u001b[1;32m   1008\u001b[0m     error_class \u001b[38;5;241m=\u001b[39m \u001b[38;5;28mself\u001b[39m\u001b[38;5;241m.\u001b[39mexceptions\u001b[38;5;241m.\u001b[39mfrom_code(error_code)\n\u001b[0;32m-> 1009\u001b[0m     \u001b[38;5;28;01mraise\u001b[39;00m error_class(parsed_response, operation_name)\n\u001b[1;32m   1010\u001b[0m \u001b[38;5;28;01melse\u001b[39;00m:\n",
      "\u001b[0;31mClientError\u001b[0m: An error occurred (403) when calling the HeadObject operation: Forbidden",
      "\nDuring handling of the above exception, another exception occurred:\n",
      "\u001b[0;31mPermissionError\u001b[0m                           Traceback (most recent call last)",
      "Cell \u001b[0;32mIn[6], line 2\u001b[0m\n\u001b[1;32m      1\u001b[0m \u001b[38;5;66;03m# read files into pd df\u001b[39;00m\n\u001b[0;32m----> 2\u001b[0m chemicals_df \u001b[38;5;241m=\u001b[39m \u001b[43mpd\u001b[49m\u001b[38;5;241;43m.\u001b[39;49m\u001b[43mread_csv\u001b[49m\u001b[43m(\u001b[49m\u001b[43ms3_private_path_chemicals\u001b[49m\u001b[43m \u001b[49m\u001b[38;5;241;43m+\u001b[39;49m\u001b[43m \u001b[49m\u001b[38;5;124;43m\"\u001b[39;49m\u001b[38;5;124;43m/cosmetic_chemicals.csv\u001b[39;49m\u001b[38;5;124;43m\"\u001b[39;49m\u001b[43m)\u001b[49m\n\u001b[1;32m      3\u001b[0m cosmetics_df \u001b[38;5;241m=\u001b[39m pd\u001b[38;5;241m.\u001b[39mread_csv(s3_private_path_cosmetics \u001b[38;5;241m+\u001b[39m \u001b[38;5;124m\"\u001b[39m\u001b[38;5;124m/cosmetics.csv\u001b[39m\u001b[38;5;124m\"\u001b[39m)\n\u001b[1;32m      4\u001b[0m customer_df \u001b[38;5;241m=\u001b[39m pd\u001b[38;5;241m.\u001b[39mread_csv(s3_private_path_customer \u001b[38;5;241m+\u001b[39m \u001b[38;5;124m\"\u001b[39m\u001b[38;5;124m/customer.csv\u001b[39m\u001b[38;5;124m\"\u001b[39m)\n",
      "File \u001b[0;32m/opt/conda/lib/python3.8/site-packages/pandas/io/parsers/readers.py:912\u001b[0m, in \u001b[0;36mread_csv\u001b[0;34m(filepath_or_buffer, sep, delimiter, header, names, index_col, usecols, dtype, engine, converters, true_values, false_values, skipinitialspace, skiprows, skipfooter, nrows, na_values, keep_default_na, na_filter, verbose, skip_blank_lines, parse_dates, infer_datetime_format, keep_date_col, date_parser, date_format, dayfirst, cache_dates, iterator, chunksize, compression, thousands, decimal, lineterminator, quotechar, quoting, doublequote, escapechar, comment, encoding, encoding_errors, dialect, on_bad_lines, delim_whitespace, low_memory, memory_map, float_precision, storage_options, dtype_backend)\u001b[0m\n\u001b[1;32m    899\u001b[0m kwds_defaults \u001b[38;5;241m=\u001b[39m _refine_defaults_read(\n\u001b[1;32m    900\u001b[0m     dialect,\n\u001b[1;32m    901\u001b[0m     delimiter,\n\u001b[0;32m   (...)\u001b[0m\n\u001b[1;32m    908\u001b[0m     dtype_backend\u001b[38;5;241m=\u001b[39mdtype_backend,\n\u001b[1;32m    909\u001b[0m )\n\u001b[1;32m    910\u001b[0m kwds\u001b[38;5;241m.\u001b[39mupdate(kwds_defaults)\n\u001b[0;32m--> 912\u001b[0m \u001b[38;5;28;01mreturn\u001b[39;00m \u001b[43m_read\u001b[49m\u001b[43m(\u001b[49m\u001b[43mfilepath_or_buffer\u001b[49m\u001b[43m,\u001b[49m\u001b[43m \u001b[49m\u001b[43mkwds\u001b[49m\u001b[43m)\u001b[49m\n",
      "File \u001b[0;32m/opt/conda/lib/python3.8/site-packages/pandas/io/parsers/readers.py:577\u001b[0m, in \u001b[0;36m_read\u001b[0;34m(filepath_or_buffer, kwds)\u001b[0m\n\u001b[1;32m    574\u001b[0m _validate_names(kwds\u001b[38;5;241m.\u001b[39mget(\u001b[38;5;124m\"\u001b[39m\u001b[38;5;124mnames\u001b[39m\u001b[38;5;124m\"\u001b[39m, \u001b[38;5;28;01mNone\u001b[39;00m))\n\u001b[1;32m    576\u001b[0m \u001b[38;5;66;03m# Create the parser.\u001b[39;00m\n\u001b[0;32m--> 577\u001b[0m parser \u001b[38;5;241m=\u001b[39m \u001b[43mTextFileReader\u001b[49m\u001b[43m(\u001b[49m\u001b[43mfilepath_or_buffer\u001b[49m\u001b[43m,\u001b[49m\u001b[43m \u001b[49m\u001b[38;5;241;43m*\u001b[39;49m\u001b[38;5;241;43m*\u001b[39;49m\u001b[43mkwds\u001b[49m\u001b[43m)\u001b[49m\n\u001b[1;32m    579\u001b[0m \u001b[38;5;28;01mif\u001b[39;00m chunksize \u001b[38;5;129;01mor\u001b[39;00m iterator:\n\u001b[1;32m    580\u001b[0m     \u001b[38;5;28;01mreturn\u001b[39;00m parser\n",
      "File \u001b[0;32m/opt/conda/lib/python3.8/site-packages/pandas/io/parsers/readers.py:1407\u001b[0m, in \u001b[0;36mTextFileReader.__init__\u001b[0;34m(self, f, engine, **kwds)\u001b[0m\n\u001b[1;32m   1404\u001b[0m     \u001b[38;5;28mself\u001b[39m\u001b[38;5;241m.\u001b[39moptions[\u001b[38;5;124m\"\u001b[39m\u001b[38;5;124mhas_index_names\u001b[39m\u001b[38;5;124m\"\u001b[39m] \u001b[38;5;241m=\u001b[39m kwds[\u001b[38;5;124m\"\u001b[39m\u001b[38;5;124mhas_index_names\u001b[39m\u001b[38;5;124m\"\u001b[39m]\n\u001b[1;32m   1406\u001b[0m \u001b[38;5;28mself\u001b[39m\u001b[38;5;241m.\u001b[39mhandles: IOHandles \u001b[38;5;241m|\u001b[39m \u001b[38;5;28;01mNone\u001b[39;00m \u001b[38;5;241m=\u001b[39m \u001b[38;5;28;01mNone\u001b[39;00m\n\u001b[0;32m-> 1407\u001b[0m \u001b[38;5;28mself\u001b[39m\u001b[38;5;241m.\u001b[39m_engine \u001b[38;5;241m=\u001b[39m \u001b[38;5;28;43mself\u001b[39;49m\u001b[38;5;241;43m.\u001b[39;49m\u001b[43m_make_engine\u001b[49m\u001b[43m(\u001b[49m\u001b[43mf\u001b[49m\u001b[43m,\u001b[49m\u001b[43m \u001b[49m\u001b[38;5;28;43mself\u001b[39;49m\u001b[38;5;241;43m.\u001b[39;49m\u001b[43mengine\u001b[49m\u001b[43m)\u001b[49m\n",
      "File \u001b[0;32m/opt/conda/lib/python3.8/site-packages/pandas/io/parsers/readers.py:1661\u001b[0m, in \u001b[0;36mTextFileReader._make_engine\u001b[0;34m(self, f, engine)\u001b[0m\n\u001b[1;32m   1659\u001b[0m     \u001b[38;5;28;01mif\u001b[39;00m \u001b[38;5;124m\"\u001b[39m\u001b[38;5;124mb\u001b[39m\u001b[38;5;124m\"\u001b[39m \u001b[38;5;129;01mnot\u001b[39;00m \u001b[38;5;129;01min\u001b[39;00m mode:\n\u001b[1;32m   1660\u001b[0m         mode \u001b[38;5;241m+\u001b[39m\u001b[38;5;241m=\u001b[39m \u001b[38;5;124m\"\u001b[39m\u001b[38;5;124mb\u001b[39m\u001b[38;5;124m\"\u001b[39m\n\u001b[0;32m-> 1661\u001b[0m \u001b[38;5;28mself\u001b[39m\u001b[38;5;241m.\u001b[39mhandles \u001b[38;5;241m=\u001b[39m \u001b[43mget_handle\u001b[49m\u001b[43m(\u001b[49m\n\u001b[1;32m   1662\u001b[0m \u001b[43m    \u001b[49m\u001b[43mf\u001b[49m\u001b[43m,\u001b[49m\n\u001b[1;32m   1663\u001b[0m \u001b[43m    \u001b[49m\u001b[43mmode\u001b[49m\u001b[43m,\u001b[49m\n\u001b[1;32m   1664\u001b[0m \u001b[43m    \u001b[49m\u001b[43mencoding\u001b[49m\u001b[38;5;241;43m=\u001b[39;49m\u001b[38;5;28;43mself\u001b[39;49m\u001b[38;5;241;43m.\u001b[39;49m\u001b[43moptions\u001b[49m\u001b[38;5;241;43m.\u001b[39;49m\u001b[43mget\u001b[49m\u001b[43m(\u001b[49m\u001b[38;5;124;43m\"\u001b[39;49m\u001b[38;5;124;43mencoding\u001b[39;49m\u001b[38;5;124;43m\"\u001b[39;49m\u001b[43m,\u001b[49m\u001b[43m \u001b[49m\u001b[38;5;28;43;01mNone\u001b[39;49;00m\u001b[43m)\u001b[49m\u001b[43m,\u001b[49m\n\u001b[1;32m   1665\u001b[0m \u001b[43m    \u001b[49m\u001b[43mcompression\u001b[49m\u001b[38;5;241;43m=\u001b[39;49m\u001b[38;5;28;43mself\u001b[39;49m\u001b[38;5;241;43m.\u001b[39;49m\u001b[43moptions\u001b[49m\u001b[38;5;241;43m.\u001b[39;49m\u001b[43mget\u001b[49m\u001b[43m(\u001b[49m\u001b[38;5;124;43m\"\u001b[39;49m\u001b[38;5;124;43mcompression\u001b[39;49m\u001b[38;5;124;43m\"\u001b[39;49m\u001b[43m,\u001b[49m\u001b[43m \u001b[49m\u001b[38;5;28;43;01mNone\u001b[39;49;00m\u001b[43m)\u001b[49m\u001b[43m,\u001b[49m\n\u001b[1;32m   1666\u001b[0m \u001b[43m    \u001b[49m\u001b[43mmemory_map\u001b[49m\u001b[38;5;241;43m=\u001b[39;49m\u001b[38;5;28;43mself\u001b[39;49m\u001b[38;5;241;43m.\u001b[39;49m\u001b[43moptions\u001b[49m\u001b[38;5;241;43m.\u001b[39;49m\u001b[43mget\u001b[49m\u001b[43m(\u001b[49m\u001b[38;5;124;43m\"\u001b[39;49m\u001b[38;5;124;43mmemory_map\u001b[39;49m\u001b[38;5;124;43m\"\u001b[39;49m\u001b[43m,\u001b[49m\u001b[43m \u001b[49m\u001b[38;5;28;43;01mFalse\u001b[39;49;00m\u001b[43m)\u001b[49m\u001b[43m,\u001b[49m\n\u001b[1;32m   1667\u001b[0m \u001b[43m    \u001b[49m\u001b[43mis_text\u001b[49m\u001b[38;5;241;43m=\u001b[39;49m\u001b[43mis_text\u001b[49m\u001b[43m,\u001b[49m\n\u001b[1;32m   1668\u001b[0m \u001b[43m    \u001b[49m\u001b[43merrors\u001b[49m\u001b[38;5;241;43m=\u001b[39;49m\u001b[38;5;28;43mself\u001b[39;49m\u001b[38;5;241;43m.\u001b[39;49m\u001b[43moptions\u001b[49m\u001b[38;5;241;43m.\u001b[39;49m\u001b[43mget\u001b[49m\u001b[43m(\u001b[49m\u001b[38;5;124;43m\"\u001b[39;49m\u001b[38;5;124;43mencoding_errors\u001b[39;49m\u001b[38;5;124;43m\"\u001b[39;49m\u001b[43m,\u001b[49m\u001b[43m \u001b[49m\u001b[38;5;124;43m\"\u001b[39;49m\u001b[38;5;124;43mstrict\u001b[39;49m\u001b[38;5;124;43m\"\u001b[39;49m\u001b[43m)\u001b[49m\u001b[43m,\u001b[49m\n\u001b[1;32m   1669\u001b[0m \u001b[43m    \u001b[49m\u001b[43mstorage_options\u001b[49m\u001b[38;5;241;43m=\u001b[39;49m\u001b[38;5;28;43mself\u001b[39;49m\u001b[38;5;241;43m.\u001b[39;49m\u001b[43moptions\u001b[49m\u001b[38;5;241;43m.\u001b[39;49m\u001b[43mget\u001b[49m\u001b[43m(\u001b[49m\u001b[38;5;124;43m\"\u001b[39;49m\u001b[38;5;124;43mstorage_options\u001b[39;49m\u001b[38;5;124;43m\"\u001b[39;49m\u001b[43m,\u001b[49m\u001b[43m \u001b[49m\u001b[38;5;28;43;01mNone\u001b[39;49;00m\u001b[43m)\u001b[49m\u001b[43m,\u001b[49m\n\u001b[1;32m   1670\u001b[0m \u001b[43m\u001b[49m\u001b[43m)\u001b[49m\n\u001b[1;32m   1671\u001b[0m \u001b[38;5;28;01massert\u001b[39;00m \u001b[38;5;28mself\u001b[39m\u001b[38;5;241m.\u001b[39mhandles \u001b[38;5;129;01mis\u001b[39;00m \u001b[38;5;129;01mnot\u001b[39;00m \u001b[38;5;28;01mNone\u001b[39;00m\n\u001b[1;32m   1672\u001b[0m f \u001b[38;5;241m=\u001b[39m \u001b[38;5;28mself\u001b[39m\u001b[38;5;241m.\u001b[39mhandles\u001b[38;5;241m.\u001b[39mhandle\n",
      "File \u001b[0;32m/opt/conda/lib/python3.8/site-packages/pandas/io/common.py:716\u001b[0m, in \u001b[0;36mget_handle\u001b[0;34m(path_or_buf, mode, encoding, compression, memory_map, is_text, errors, storage_options)\u001b[0m\n\u001b[1;32m    713\u001b[0m     codecs\u001b[38;5;241m.\u001b[39mlookup_error(errors)\n\u001b[1;32m    715\u001b[0m \u001b[38;5;66;03m# open URLs\u001b[39;00m\n\u001b[0;32m--> 716\u001b[0m ioargs \u001b[38;5;241m=\u001b[39m \u001b[43m_get_filepath_or_buffer\u001b[49m\u001b[43m(\u001b[49m\n\u001b[1;32m    717\u001b[0m \u001b[43m    \u001b[49m\u001b[43mpath_or_buf\u001b[49m\u001b[43m,\u001b[49m\n\u001b[1;32m    718\u001b[0m \u001b[43m    \u001b[49m\u001b[43mencoding\u001b[49m\u001b[38;5;241;43m=\u001b[39;49m\u001b[43mencoding\u001b[49m\u001b[43m,\u001b[49m\n\u001b[1;32m    719\u001b[0m \u001b[43m    \u001b[49m\u001b[43mcompression\u001b[49m\u001b[38;5;241;43m=\u001b[39;49m\u001b[43mcompression\u001b[49m\u001b[43m,\u001b[49m\n\u001b[1;32m    720\u001b[0m \u001b[43m    \u001b[49m\u001b[43mmode\u001b[49m\u001b[38;5;241;43m=\u001b[39;49m\u001b[43mmode\u001b[49m\u001b[43m,\u001b[49m\n\u001b[1;32m    721\u001b[0m \u001b[43m    \u001b[49m\u001b[43mstorage_options\u001b[49m\u001b[38;5;241;43m=\u001b[39;49m\u001b[43mstorage_options\u001b[49m\u001b[43m,\u001b[49m\n\u001b[1;32m    722\u001b[0m \u001b[43m\u001b[49m\u001b[43m)\u001b[49m\n\u001b[1;32m    724\u001b[0m handle \u001b[38;5;241m=\u001b[39m ioargs\u001b[38;5;241m.\u001b[39mfilepath_or_buffer\n\u001b[1;32m    725\u001b[0m handles: \u001b[38;5;28mlist\u001b[39m[BaseBuffer]\n",
      "File \u001b[0;32m/opt/conda/lib/python3.8/site-packages/pandas/io/common.py:425\u001b[0m, in \u001b[0;36m_get_filepath_or_buffer\u001b[0;34m(filepath_or_buffer, encoding, compression, mode, storage_options)\u001b[0m\n\u001b[1;32m    423\u001b[0m             storage_options \u001b[38;5;241m=\u001b[39m \u001b[38;5;28mdict\u001b[39m(storage_options)\n\u001b[1;32m    424\u001b[0m             storage_options[\u001b[38;5;124m\"\u001b[39m\u001b[38;5;124manon\u001b[39m\u001b[38;5;124m\"\u001b[39m] \u001b[38;5;241m=\u001b[39m \u001b[38;5;28;01mTrue\u001b[39;00m\n\u001b[0;32m--> 425\u001b[0m         file_obj \u001b[38;5;241m=\u001b[39m \u001b[43mfsspec\u001b[49m\u001b[38;5;241;43m.\u001b[39;49m\u001b[43mopen\u001b[49m\u001b[43m(\u001b[49m\n\u001b[1;32m    426\u001b[0m \u001b[43m            \u001b[49m\u001b[43mfilepath_or_buffer\u001b[49m\u001b[43m,\u001b[49m\u001b[43m \u001b[49m\u001b[43mmode\u001b[49m\u001b[38;5;241;43m=\u001b[39;49m\u001b[43mfsspec_mode\u001b[49m\u001b[43m,\u001b[49m\u001b[43m \u001b[49m\u001b[38;5;241;43m*\u001b[39;49m\u001b[38;5;241;43m*\u001b[39;49m\u001b[43m(\u001b[49m\u001b[43mstorage_options\u001b[49m\u001b[43m \u001b[49m\u001b[38;5;129;43;01mor\u001b[39;49;00m\u001b[43m \u001b[49m\u001b[43m{\u001b[49m\u001b[43m}\u001b[49m\u001b[43m)\u001b[49m\n\u001b[1;32m    427\u001b[0m \u001b[43m        \u001b[49m\u001b[43m)\u001b[49m\u001b[38;5;241;43m.\u001b[39;49m\u001b[43mopen\u001b[49m\u001b[43m(\u001b[49m\u001b[43m)\u001b[49m\n\u001b[1;32m    429\u001b[0m     \u001b[38;5;28;01mreturn\u001b[39;00m IOArgs(\n\u001b[1;32m    430\u001b[0m         filepath_or_buffer\u001b[38;5;241m=\u001b[39mfile_obj,\n\u001b[1;32m    431\u001b[0m         encoding\u001b[38;5;241m=\u001b[39mencoding,\n\u001b[0;32m   (...)\u001b[0m\n\u001b[1;32m    434\u001b[0m         mode\u001b[38;5;241m=\u001b[39mfsspec_mode,\n\u001b[1;32m    435\u001b[0m     )\n\u001b[1;32m    436\u001b[0m \u001b[38;5;28;01melif\u001b[39;00m storage_options:\n",
      "File \u001b[0;32m/opt/conda/lib/python3.8/site-packages/fsspec/core.py:135\u001b[0m, in \u001b[0;36mOpenFile.open\u001b[0;34m(self)\u001b[0m\n\u001b[1;32m    128\u001b[0m \u001b[38;5;28;01mdef\u001b[39;00m \u001b[38;5;21mopen\u001b[39m(\u001b[38;5;28mself\u001b[39m):\n\u001b[1;32m    129\u001b[0m \u001b[38;5;250m    \u001b[39m\u001b[38;5;124;03m\"\"\"Materialise this as a real open file without context\u001b[39;00m\n\u001b[1;32m    130\u001b[0m \n\u001b[1;32m    131\u001b[0m \u001b[38;5;124;03m    The OpenFile object should be explicitly closed to avoid enclosed file\u001b[39;00m\n\u001b[1;32m    132\u001b[0m \u001b[38;5;124;03m    instances persisting. You must, therefore, keep a reference to the OpenFile\u001b[39;00m\n\u001b[1;32m    133\u001b[0m \u001b[38;5;124;03m    during the life of the file-like it generates.\u001b[39;00m\n\u001b[1;32m    134\u001b[0m \u001b[38;5;124;03m    \"\"\"\u001b[39;00m\n\u001b[0;32m--> 135\u001b[0m     \u001b[38;5;28;01mreturn\u001b[39;00m \u001b[38;5;28;43mself\u001b[39;49m\u001b[38;5;241;43m.\u001b[39;49m\u001b[38;5;21;43m__enter__\u001b[39;49m\u001b[43m(\u001b[49m\u001b[43m)\u001b[49m\n",
      "File \u001b[0;32m/opt/conda/lib/python3.8/site-packages/fsspec/core.py:103\u001b[0m, in \u001b[0;36mOpenFile.__enter__\u001b[0;34m(self)\u001b[0m\n\u001b[1;32m    100\u001b[0m \u001b[38;5;28;01mdef\u001b[39;00m \u001b[38;5;21m__enter__\u001b[39m(\u001b[38;5;28mself\u001b[39m):\n\u001b[1;32m    101\u001b[0m     mode \u001b[38;5;241m=\u001b[39m \u001b[38;5;28mself\u001b[39m\u001b[38;5;241m.\u001b[39mmode\u001b[38;5;241m.\u001b[39mreplace(\u001b[38;5;124m\"\u001b[39m\u001b[38;5;124mt\u001b[39m\u001b[38;5;124m\"\u001b[39m, \u001b[38;5;124m\"\u001b[39m\u001b[38;5;124m\"\u001b[39m)\u001b[38;5;241m.\u001b[39mreplace(\u001b[38;5;124m\"\u001b[39m\u001b[38;5;124mb\u001b[39m\u001b[38;5;124m\"\u001b[39m, \u001b[38;5;124m\"\u001b[39m\u001b[38;5;124m\"\u001b[39m) \u001b[38;5;241m+\u001b[39m \u001b[38;5;124m\"\u001b[39m\u001b[38;5;124mb\u001b[39m\u001b[38;5;124m\"\u001b[39m\n\u001b[0;32m--> 103\u001b[0m     f \u001b[38;5;241m=\u001b[39m \u001b[38;5;28;43mself\u001b[39;49m\u001b[38;5;241;43m.\u001b[39;49m\u001b[43mfs\u001b[49m\u001b[38;5;241;43m.\u001b[39;49m\u001b[43mopen\u001b[49m\u001b[43m(\u001b[49m\u001b[38;5;28;43mself\u001b[39;49m\u001b[38;5;241;43m.\u001b[39;49m\u001b[43mpath\u001b[49m\u001b[43m,\u001b[49m\u001b[43m \u001b[49m\u001b[43mmode\u001b[49m\u001b[38;5;241;43m=\u001b[39;49m\u001b[43mmode\u001b[49m\u001b[43m)\u001b[49m\n\u001b[1;32m    105\u001b[0m     \u001b[38;5;28mself\u001b[39m\u001b[38;5;241m.\u001b[39mfobjects \u001b[38;5;241m=\u001b[39m [f]\n\u001b[1;32m    107\u001b[0m     \u001b[38;5;28;01mif\u001b[39;00m \u001b[38;5;28mself\u001b[39m\u001b[38;5;241m.\u001b[39mcompression \u001b[38;5;129;01mis\u001b[39;00m \u001b[38;5;129;01mnot\u001b[39;00m \u001b[38;5;28;01mNone\u001b[39;00m:\n",
      "File \u001b[0;32m/opt/conda/lib/python3.8/site-packages/fsspec/spec.py:1293\u001b[0m, in \u001b[0;36mAbstractFileSystem.open\u001b[0;34m(self, path, mode, block_size, cache_options, compression, **kwargs)\u001b[0m\n\u001b[1;32m   1291\u001b[0m \u001b[38;5;28;01melse\u001b[39;00m:\n\u001b[1;32m   1292\u001b[0m     ac \u001b[38;5;241m=\u001b[39m kwargs\u001b[38;5;241m.\u001b[39mpop(\u001b[38;5;124m\"\u001b[39m\u001b[38;5;124mautocommit\u001b[39m\u001b[38;5;124m\"\u001b[39m, \u001b[38;5;129;01mnot\u001b[39;00m \u001b[38;5;28mself\u001b[39m\u001b[38;5;241m.\u001b[39m_intrans)\n\u001b[0;32m-> 1293\u001b[0m     f \u001b[38;5;241m=\u001b[39m \u001b[38;5;28;43mself\u001b[39;49m\u001b[38;5;241;43m.\u001b[39;49m\u001b[43m_open\u001b[49m\u001b[43m(\u001b[49m\n\u001b[1;32m   1294\u001b[0m \u001b[43m        \u001b[49m\u001b[43mpath\u001b[49m\u001b[43m,\u001b[49m\n\u001b[1;32m   1295\u001b[0m \u001b[43m        \u001b[49m\u001b[43mmode\u001b[49m\u001b[38;5;241;43m=\u001b[39;49m\u001b[43mmode\u001b[49m\u001b[43m,\u001b[49m\n\u001b[1;32m   1296\u001b[0m \u001b[43m        \u001b[49m\u001b[43mblock_size\u001b[49m\u001b[38;5;241;43m=\u001b[39;49m\u001b[43mblock_size\u001b[49m\u001b[43m,\u001b[49m\n\u001b[1;32m   1297\u001b[0m \u001b[43m        \u001b[49m\u001b[43mautocommit\u001b[49m\u001b[38;5;241;43m=\u001b[39;49m\u001b[43mac\u001b[49m\u001b[43m,\u001b[49m\n\u001b[1;32m   1298\u001b[0m \u001b[43m        \u001b[49m\u001b[43mcache_options\u001b[49m\u001b[38;5;241;43m=\u001b[39;49m\u001b[43mcache_options\u001b[49m\u001b[43m,\u001b[49m\n\u001b[1;32m   1299\u001b[0m \u001b[43m        \u001b[49m\u001b[38;5;241;43m*\u001b[39;49m\u001b[38;5;241;43m*\u001b[39;49m\u001b[43mkwargs\u001b[49m\u001b[43m,\u001b[49m\n\u001b[1;32m   1300\u001b[0m \u001b[43m    \u001b[49m\u001b[43m)\u001b[49m\n\u001b[1;32m   1301\u001b[0m     \u001b[38;5;28;01mif\u001b[39;00m compression \u001b[38;5;129;01mis\u001b[39;00m \u001b[38;5;129;01mnot\u001b[39;00m \u001b[38;5;28;01mNone\u001b[39;00m:\n\u001b[1;32m   1302\u001b[0m         \u001b[38;5;28;01mfrom\u001b[39;00m \u001b[38;5;21;01mfsspec\u001b[39;00m\u001b[38;5;21;01m.\u001b[39;00m\u001b[38;5;21;01mcompression\u001b[39;00m \u001b[38;5;28;01mimport\u001b[39;00m compr\n",
      "File \u001b[0;32m/opt/conda/lib/python3.8/site-packages/s3fs/core.py:375\u001b[0m, in \u001b[0;36mS3FileSystem._open\u001b[0;34m(self, path, mode, block_size, acl, version_id, fill_cache, cache_type, autocommit, requester_pays, **kwargs)\u001b[0m\n\u001b[1;32m    372\u001b[0m \u001b[38;5;28;01mif\u001b[39;00m cache_type \u001b[38;5;129;01mis\u001b[39;00m \u001b[38;5;28;01mNone\u001b[39;00m:\n\u001b[1;32m    373\u001b[0m     cache_type \u001b[38;5;241m=\u001b[39m \u001b[38;5;28mself\u001b[39m\u001b[38;5;241m.\u001b[39mdefault_cache_type\n\u001b[0;32m--> 375\u001b[0m \u001b[38;5;28;01mreturn\u001b[39;00m \u001b[43mS3File\u001b[49m\u001b[43m(\u001b[49m\u001b[38;5;28;43mself\u001b[39;49m\u001b[43m,\u001b[49m\u001b[43m \u001b[49m\u001b[43mpath\u001b[49m\u001b[43m,\u001b[49m\u001b[43m \u001b[49m\u001b[43mmode\u001b[49m\u001b[43m,\u001b[49m\u001b[43m \u001b[49m\u001b[43mblock_size\u001b[49m\u001b[38;5;241;43m=\u001b[39;49m\u001b[43mblock_size\u001b[49m\u001b[43m,\u001b[49m\u001b[43m \u001b[49m\u001b[43macl\u001b[49m\u001b[38;5;241;43m=\u001b[39;49m\u001b[43macl\u001b[49m\u001b[43m,\u001b[49m\n\u001b[1;32m    376\u001b[0m \u001b[43m              \u001b[49m\u001b[43mversion_id\u001b[49m\u001b[38;5;241;43m=\u001b[39;49m\u001b[43mversion_id\u001b[49m\u001b[43m,\u001b[49m\u001b[43m \u001b[49m\u001b[43mfill_cache\u001b[49m\u001b[38;5;241;43m=\u001b[39;49m\u001b[43mfill_cache\u001b[49m\u001b[43m,\u001b[49m\n\u001b[1;32m    377\u001b[0m \u001b[43m              \u001b[49m\u001b[43ms3_additional_kwargs\u001b[49m\u001b[38;5;241;43m=\u001b[39;49m\u001b[43mkw\u001b[49m\u001b[43m,\u001b[49m\u001b[43m \u001b[49m\u001b[43mcache_type\u001b[49m\u001b[38;5;241;43m=\u001b[39;49m\u001b[43mcache_type\u001b[49m\u001b[43m,\u001b[49m\n\u001b[1;32m    378\u001b[0m \u001b[43m              \u001b[49m\u001b[43mautocommit\u001b[49m\u001b[38;5;241;43m=\u001b[39;49m\u001b[43mautocommit\u001b[49m\u001b[43m,\u001b[49m\u001b[43m \u001b[49m\u001b[43mrequester_pays\u001b[49m\u001b[38;5;241;43m=\u001b[39;49m\u001b[43mrequester_pays\u001b[49m\u001b[43m)\u001b[49m\n",
      "File \u001b[0;32m/opt/conda/lib/python3.8/site-packages/s3fs/core.py:1096\u001b[0m, in \u001b[0;36mS3File.__init__\u001b[0;34m(self, s3, path, mode, block_size, acl, version_id, fill_cache, s3_additional_kwargs, autocommit, cache_type, requester_pays)\u001b[0m\n\u001b[1;32m   1094\u001b[0m \u001b[38;5;28mself\u001b[39m\u001b[38;5;241m.\u001b[39ms3_additional_kwargs \u001b[38;5;241m=\u001b[39m s3_additional_kwargs \u001b[38;5;129;01mor\u001b[39;00m {}\n\u001b[1;32m   1095\u001b[0m \u001b[38;5;28mself\u001b[39m\u001b[38;5;241m.\u001b[39mreq_kw \u001b[38;5;241m=\u001b[39m {\u001b[38;5;124m'\u001b[39m\u001b[38;5;124mRequestPayer\u001b[39m\u001b[38;5;124m'\u001b[39m: \u001b[38;5;124m'\u001b[39m\u001b[38;5;124mrequester\u001b[39m\u001b[38;5;124m'\u001b[39m} \u001b[38;5;28;01mif\u001b[39;00m requester_pays \u001b[38;5;28;01melse\u001b[39;00m {}\n\u001b[0;32m-> 1096\u001b[0m \u001b[38;5;28;43msuper\u001b[39;49m\u001b[43m(\u001b[49m\u001b[43m)\u001b[49m\u001b[38;5;241;43m.\u001b[39;49m\u001b[38;5;21;43m__init__\u001b[39;49m\u001b[43m(\u001b[49m\u001b[43ms3\u001b[49m\u001b[43m,\u001b[49m\u001b[43m \u001b[49m\u001b[43mpath\u001b[49m\u001b[43m,\u001b[49m\u001b[43m \u001b[49m\u001b[43mmode\u001b[49m\u001b[43m,\u001b[49m\u001b[43m \u001b[49m\u001b[43mblock_size\u001b[49m\u001b[43m,\u001b[49m\u001b[43m \u001b[49m\u001b[43mautocommit\u001b[49m\u001b[38;5;241;43m=\u001b[39;49m\u001b[43mautocommit\u001b[49m\u001b[43m,\u001b[49m\n\u001b[1;32m   1097\u001b[0m \u001b[43m                 \u001b[49m\u001b[43mcache_type\u001b[49m\u001b[38;5;241;43m=\u001b[39;49m\u001b[43mcache_type\u001b[49m\u001b[43m)\u001b[49m\n\u001b[1;32m   1098\u001b[0m \u001b[38;5;28mself\u001b[39m\u001b[38;5;241m.\u001b[39ms3 \u001b[38;5;241m=\u001b[39m \u001b[38;5;28mself\u001b[39m\u001b[38;5;241m.\u001b[39mfs  \u001b[38;5;66;03m# compatibility\u001b[39;00m\n\u001b[1;32m   1099\u001b[0m \u001b[38;5;28;01mif\u001b[39;00m \u001b[38;5;28mself\u001b[39m\u001b[38;5;241m.\u001b[39mwritable():\n",
      "File \u001b[0;32m/opt/conda/lib/python3.8/site-packages/fsspec/spec.py:1651\u001b[0m, in \u001b[0;36mAbstractBufferedFile.__init__\u001b[0;34m(self, fs, path, mode, block_size, autocommit, cache_type, cache_options, size, **kwargs)\u001b[0m\n\u001b[1;32m   1649\u001b[0m         \u001b[38;5;28mself\u001b[39m\u001b[38;5;241m.\u001b[39msize \u001b[38;5;241m=\u001b[39m size\n\u001b[1;32m   1650\u001b[0m     \u001b[38;5;28;01melse\u001b[39;00m:\n\u001b[0;32m-> 1651\u001b[0m         \u001b[38;5;28mself\u001b[39m\u001b[38;5;241m.\u001b[39msize \u001b[38;5;241m=\u001b[39m \u001b[38;5;28;43mself\u001b[39;49m\u001b[38;5;241;43m.\u001b[39;49m\u001b[43mdetails\u001b[49m[\u001b[38;5;124m\"\u001b[39m\u001b[38;5;124msize\u001b[39m\u001b[38;5;124m\"\u001b[39m]\n\u001b[1;32m   1652\u001b[0m     \u001b[38;5;28mself\u001b[39m\u001b[38;5;241m.\u001b[39mcache \u001b[38;5;241m=\u001b[39m caches[cache_type](\n\u001b[1;32m   1653\u001b[0m         \u001b[38;5;28mself\u001b[39m\u001b[38;5;241m.\u001b[39mblocksize, \u001b[38;5;28mself\u001b[39m\u001b[38;5;241m.\u001b[39m_fetch_range, \u001b[38;5;28mself\u001b[39m\u001b[38;5;241m.\u001b[39msize, \u001b[38;5;241m*\u001b[39m\u001b[38;5;241m*\u001b[39mcache_options\n\u001b[1;32m   1654\u001b[0m     )\n\u001b[1;32m   1655\u001b[0m \u001b[38;5;28;01melse\u001b[39;00m:\n",
      "File \u001b[0;32m/opt/conda/lib/python3.8/site-packages/fsspec/spec.py:1664\u001b[0m, in \u001b[0;36mAbstractBufferedFile.details\u001b[0;34m(self)\u001b[0m\n\u001b[1;32m   1661\u001b[0m \u001b[38;5;129m@property\u001b[39m\n\u001b[1;32m   1662\u001b[0m \u001b[38;5;28;01mdef\u001b[39;00m \u001b[38;5;21mdetails\u001b[39m(\u001b[38;5;28mself\u001b[39m):\n\u001b[1;32m   1663\u001b[0m     \u001b[38;5;28;01mif\u001b[39;00m \u001b[38;5;28mself\u001b[39m\u001b[38;5;241m.\u001b[39m_details \u001b[38;5;129;01mis\u001b[39;00m \u001b[38;5;28;01mNone\u001b[39;00m:\n\u001b[0;32m-> 1664\u001b[0m         \u001b[38;5;28mself\u001b[39m\u001b[38;5;241m.\u001b[39m_details \u001b[38;5;241m=\u001b[39m \u001b[38;5;28;43mself\u001b[39;49m\u001b[38;5;241;43m.\u001b[39;49m\u001b[43mfs\u001b[49m\u001b[38;5;241;43m.\u001b[39;49m\u001b[43minfo\u001b[49m\u001b[43m(\u001b[49m\u001b[38;5;28;43mself\u001b[39;49m\u001b[38;5;241;43m.\u001b[39;49m\u001b[43mpath\u001b[49m\u001b[43m)\u001b[49m\n\u001b[1;32m   1665\u001b[0m     \u001b[38;5;28;01mreturn\u001b[39;00m \u001b[38;5;28mself\u001b[39m\u001b[38;5;241m.\u001b[39m_details\n",
      "File \u001b[0;32m/opt/conda/lib/python3.8/site-packages/s3fs/core.py:548\u001b[0m, in \u001b[0;36mS3FileSystem.info\u001b[0;34m(self, path, version_id, refresh)\u001b[0m\n\u001b[1;32m    546\u001b[0m         \u001b[38;5;28;01mreturn\u001b[39;00m \u001b[38;5;28msuper\u001b[39m(S3FileSystem, \u001b[38;5;28mself\u001b[39m)\u001b[38;5;241m.\u001b[39minfo(path)\n\u001b[1;32m    547\u001b[0m     \u001b[38;5;28;01melse\u001b[39;00m:\n\u001b[0;32m--> 548\u001b[0m         \u001b[38;5;28;01mraise\u001b[39;00m ee\n\u001b[1;32m    549\u001b[0m \u001b[38;5;28;01mexcept\u001b[39;00m ParamValidationError \u001b[38;5;28;01mas\u001b[39;00m e:\n\u001b[1;32m    550\u001b[0m     \u001b[38;5;28;01mraise\u001b[39;00m \u001b[38;5;167;01mValueError\u001b[39;00m(\u001b[38;5;124m'\u001b[39m\u001b[38;5;124mFailed to head path \u001b[39m\u001b[38;5;132;01m%r\u001b[39;00m\u001b[38;5;124m: \u001b[39m\u001b[38;5;132;01m%s\u001b[39;00m\u001b[38;5;124m'\u001b[39m \u001b[38;5;241m%\u001b[39m (path, e))\n",
      "\u001b[0;31mPermissionError\u001b[0m: Forbidden"
     ]
    }
   ],
   "source": [
    "# read files into pd df\n",
    "chemicals_df = pd.read_csv(s3_private_path_chemicals + \"/cosmetic_chemicals.csv\")\n",
    "cosmetics_df = pd.read_csv(s3_private_path_cosmetics + \"/cosmetics.csv\")\n",
    "customer_df = pd.read_csv(s3_private_path_customer + \"/customer.csv\")"
   ]
  },
  {
   "cell_type": "markdown",
   "id": "4e124ed0-25ce-4f8b-a5bd-1c96bb4553e5",
   "metadata": {},
   "source": [
    "## Data Exploration"
   ]
  },
  {
   "cell_type": "code",
   "execution_count": null,
   "id": "d8813860-9854-4b66-b9d6-bedd6cf81dee",
   "metadata": {
    "tags": []
   },
   "outputs": [],
   "source": [
    "pd.set_option('display.max_columns', None)"
   ]
  },
  {
   "cell_type": "code",
   "execution_count": null,
   "id": "c8f3449c-272f-4bf5-b035-a31ba0937ee6",
   "metadata": {
    "tags": []
   },
   "outputs": [],
   "source": [
    "chemicals_df.head()"
   ]
  },
  {
   "cell_type": "code",
   "execution_count": null,
   "id": "56c9fc0d-52a9-4f91-93f5-5600f9469575",
   "metadata": {
    "tags": []
   },
   "outputs": [],
   "source": [
    "chemicals_df['PrimaryCategory'].value_counts() "
   ]
  },
  {
   "cell_type": "code",
   "execution_count": null,
   "id": "d89fb83e-6d66-4ede-be27-dc7149470ad2",
   "metadata": {
    "tags": []
   },
   "outputs": [],
   "source": [
    "cosmetics_df.head()"
   ]
  },
  {
   "cell_type": "code",
   "execution_count": null,
   "id": "0f6dfb1d-da00-4f88-9629-b1c4372deac4",
   "metadata": {
    "tags": []
   },
   "outputs": [],
   "source": [
    "cosmetics_df['Label'].value_counts()"
   ]
  },
  {
   "cell_type": "code",
   "execution_count": null,
   "id": "7bcf6dd5-8c34-4e96-bf09-c642f43be8ac",
   "metadata": {
    "tags": []
   },
   "outputs": [],
   "source": [
    "customer_df.head()"
   ]
  },
  {
   "cell_type": "markdown",
   "id": "26f1cf29-6278-4954-8efb-aa5fe627f910",
   "metadata": {},
   "source": [
    "Since the cosmetics dataframe exclusively comprises skincare items, our analysis will focus solely on skincare products and those associated with sun protection from the chemicals present in the cosmetic dataframe."
   ]
  },
  {
   "cell_type": "markdown",
   "id": "7cbe658b-a7d3-4250-b729-9a5f4a58871d",
   "metadata": {},
   "source": [
    "## Table Manipulation"
   ]
  },
  {
   "cell_type": "markdown",
   "id": "4177fb3c-773d-4cbf-b4b1-263b59ebde60",
   "metadata": {
    "tags": []
   },
   "source": [
    "### chemicals table"
   ]
  },
  {
   "cell_type": "raw",
   "id": "9a941e9e-ea74-4415-9d7c-9503bb2997dc",
   "metadata": {
    "tags": []
   },
   "source": [
    "# convert columns to binary values\n",
    "chemicals_df['Discontinued'] = chemicals_df['DiscontinuedDate'].notna().astype(int)\n",
    "chemicals_df['ChemicalRemoved'] = chemicals_df['ChemicalDateRemoved'].notna().astype(int)"
   ]
  },
  {
   "cell_type": "raw",
   "id": "1a81c544-0fec-42af-801d-7e1c00757aaa",
   "metadata": {
    "tags": []
   },
   "source": [
    "# drop unneeded columns\n",
    "drop_columns = ['CDPHId', 'CSFId', 'CSF', 'CasId', 'CasNumber', 'DiscontinuedDate', 'ChemicalDateRemoved']\n",
    "chemicals_df = chemicals_df.drop(columns=drop_columns)"
   ]
  },
  {
   "cell_type": "raw",
   "id": "729c1c30-aa7d-42fd-8269-69c49d88bf1f",
   "metadata": {
    "tags": []
   },
   "source": [
    "# removed commas from SubCategory\n",
    "chemicals_df['SubCategory'] = chemicals_df['SubCategory'].str.replace(',', '')"
   ]
  },
  {
   "cell_type": "raw",
   "id": "7ef690ea-a4ef-4739-994e-9809001e2443",
   "metadata": {
    "tags": []
   },
   "source": [
    "# convert date columns to proper format\n",
    "chemicals_df['InitialDateReported'] = pd.to_datetime(chemicals_df['InitialDateReported'], format='%m/%d/%Y').dt.strftime('%Y-%m-%d')\n",
    "chemicals_df['MostRecentDateReported'] = pd.to_datetime(chemicals_df['MostRecentDateReported'], format='%m/%d/%Y').dt.strftime('%Y-%m-%d')\n",
    "chemicals_df['ChemicalCreatedAt'] = pd.to_datetime(chemicals_df['ChemicalCreatedAt'], format='%m/%d/%Y').dt.strftime('%Y-%m-%d')\n",
    "chemicals_df['ChemicalUpdatedAt'] = pd.to_datetime(chemicals_df['ChemicalUpdatedAt'], format='%m/%d/%Y').dt.strftime('%Y-%m-%d')"
   ]
  },
  {
   "cell_type": "raw",
   "id": "630ae2fe-44ec-47ba-b31f-9b489c8bb195",
   "metadata": {
    "tags": []
   },
   "source": [
    "# add brand_id to cosmetics and chemical tables\n",
    "chemicals_df['brand_id'] = chemicals_df.groupby(['BrandName']).ngroup()\n",
    "cosmetics_df['brand_id'] = cosmetics_df.groupby(['Brand']).ngroup()"
   ]
  },
  {
   "cell_type": "raw",
   "id": "043ccd98-ddab-4047-9a35-805aa34da597",
   "metadata": {
    "tags": []
   },
   "source": [
    "s3 = boto3.client('s3')\n",
    "\n",
    "# convert dataframe back to CSV\n",
    "chemicals_df_modified = chemicals_df.to_csv(index=False)\n",
    "\n",
    "# resave to S3\n",
    "s3.put_object(Bucket=bucket, Key='chemicals-in-cosmetics/cosmetic_chemicals.csv', Body=chemicals_df_modified)"
   ]
  },
  {
   "cell_type": "markdown",
   "id": "e380b6c1-6802-4f18-b36f-4676064b054b",
   "metadata": {},
   "source": [
    "### cosmetics table"
   ]
  },
  {
   "cell_type": "raw",
   "id": "6b0997c7-62de-4dae-a11d-6d311de71b1e",
   "metadata": {
    "tags": []
   },
   "source": [
    "# removed commas from Ingredients\n",
    "cosmetics_df['Ingredients'] = cosmetics_df['Ingredients'].str.replace(',', '-')"
   ]
  },
  {
   "cell_type": "raw",
   "id": "1a0d8406-5a10-4f79-87f2-2fa5ab94f92f",
   "metadata": {
    "tags": []
   },
   "source": [
    "# create produce_id\n",
    "cosmetics_df['product_id'] = range(1, len(cosmetics_df) + 1)"
   ]
  },
  {
   "cell_type": "raw",
   "id": "a30a6c96-8e4b-4ae9-96e8-d9ab447c23d9",
   "metadata": {
    "tags": []
   },
   "source": [
    "s3 = boto3.client('s3')\n",
    "\n",
    "# convert dataframe back to CSV\n",
    "cosmetics_df_modified = cosmetics_df.to_csv(index=False)\n",
    "\n",
    "# resave to S3\n",
    "s3.put_object(Bucket=bucket, Key='cosmetic-ingredients-ranking-pricing/cosmetics.csv', Body=cosmetics_df_modified)"
   ]
  },
  {
   "cell_type": "markdown",
   "id": "af60700b-8b37-4bc9-a8bd-1e88b98f8992",
   "metadata": {},
   "source": [
    "### customer table"
   ]
  },
  {
   "cell_type": "raw",
   "id": "c7d12eef-b243-4c37-a885-02486ea56948",
   "metadata": {
    "tags": []
   },
   "source": [
    "# drop unneeded columns\n",
    "drop_columns = ['promo_banner_click', 'image_picker', 'saw_sizecharts', 'saw_account_upgrade']\n",
    "customer_df = customer_df.drop(columns=drop_columns)"
   ]
  },
  {
   "cell_type": "raw",
   "id": "2298375e-bfa3-41c1-bcaa-b050fdd9c675",
   "metadata": {
    "tags": []
   },
   "source": [
    "# create new column for product_id purchased\n",
    "customer_df['product_id'] = np.nan\n",
    "\n",
    "# randomly generate a product_id for each row where ordered = 1\n",
    "for index, row in customer_df.iterrows():\n",
    "   if row['ordered'] == 1:\n",
    "       product_id_generation = cosmetics_df.sample()['product_id'].values[0]\n",
    "       customer_df.at[index, 'product_id'] = product_id_generation\n",
    "        \n",
    "customer_df['product_id'] = customer_df['product_id'].astype('Int64')"
   ]
  },
  {
   "cell_type": "raw",
   "id": "edb7588a-9a09-4cd6-a9db-309e77034f12",
   "metadata": {
    "tags": []
   },
   "source": [
    "s3 = boto3.client('s3')\n",
    "\n",
    "# convert dataframe back to CSV\n",
    "customer_df_modified = customer_df.to_csv(index=False)\n",
    "\n",
    "# resave to S3\n",
    "s3.put_object(Bucket=bucket, Key='customer-propensity-to-purchase/customer.csv', Body=customer_df_modified)"
   ]
  },
  {
   "cell_type": "markdown",
   "id": "54bdf2a0-0949-46e6-b534-f26364659703",
   "metadata": {
    "tags": []
   },
   "source": [
    "## Create Athena Database"
   ]
  },
  {
   "cell_type": "code",
   "execution_count": null,
   "id": "839b4d82-e9fc-4cd4-92e4-a6db0092ce10",
   "metadata": {
    "tags": []
   },
   "outputs": [],
   "source": [
    "# athena database name\n",
    "db_name = 'sc_cosmetics'"
   ]
  },
  {
   "cell_type": "code",
   "execution_count": null,
   "id": "2a73423d-9d67-4972-b530-07f123594e96",
   "metadata": {
    "tags": []
   },
   "outputs": [],
   "source": [
    "# S3 staging directory\n",
    "s3_staging = \"s3://{0}/athena/staging\".format(bucket)"
   ]
  },
  {
   "cell_type": "code",
   "execution_count": null,
   "id": "9187a198-c69a-48ed-9bf5-ec1a862749cc",
   "metadata": {
    "tags": []
   },
   "outputs": [],
   "source": [
    "# create connection for athena database\n",
    "conn = connect(region_name=region, s3_staging_dir=s3_staging)"
   ]
  },
  {
   "cell_type": "code",
   "execution_count": null,
   "id": "239768e2-80f3-44c7-bd8b-35d3da2dad34",
   "metadata": {
    "tags": []
   },
   "outputs": [],
   "source": [
    "create_query = \"CREATE DATABASE IF NOT EXISTS {}\".format(db_name)\n",
    "pd.read_sql(create_query, conn)"
   ]
  },
  {
   "cell_type": "code",
   "execution_count": null,
   "id": "7f08bf92-a396-4b5b-8c10-59bbe28cb8df",
   "metadata": {
    "tags": []
   },
   "outputs": [],
   "source": [
    "# create chemicals in cosmetics table\n",
    "chem_table_name ='cosmetic_chemicals'\n",
    "\n",
    "# chemical data S3 directory\n",
    "chem_s3_dir = f's3://{bucket}/chemicals-in-cosmetics'\n",
    "\n",
    "# drop table if it already exists\n",
    "drop_query = f'DROP TABLE IF EXISTS {db_name}.{chem_table_name}'\n",
    "pd.read_sql(drop_query, conn)\n",
    "\n",
    "# create table\n",
    "create_query = f\"\"\"\n",
    "                CREATE EXTERNAL TABLE IF NOT EXISTS {db_name}.{chem_table_name}(\n",
    "                ProductName string,\n",
    "                CompanyID int,\n",
    "                CompanyName string,\n",
    "                BrandName string,\n",
    "                PrimaryCategoryID int,\n",
    "                PrimaryCategory string,\n",
    "                SubCategoryID int,\n",
    "                SubCategory string,\n",
    "                ChemicalID int,\n",
    "                ChemicalName string,\n",
    "                InitialDateReported date,\n",
    "                MostRecentDateReported date,\n",
    "                ChemicalCreatedAt date,\n",
    "                ChemicalUpdatedAt date,\n",
    "                ChemicalCount int,\n",
    "                Discontinued int,\n",
    "                ChemicalRemoved int, \n",
    "                brand_id int\n",
    "                )\n",
    "                \n",
    "                ROW FORMAT DELIMITED\n",
    "                FIELDS TERMINATED BY ','\n",
    "                LOCATION '{chem_s3_dir}/'\n",
    "                TBLPROPERTIES ('skip.header.line.count'='1')\n",
    "\"\"\"\n",
    "pd.read_sql(create_query, conn)"
   ]
  },
  {
   "cell_type": "code",
   "execution_count": null,
   "id": "782061c8-bfb0-434a-b396-9c7f2bc01cbe",
   "metadata": {
    "tags": []
   },
   "outputs": [],
   "source": [
    "# view top 5 rows of chemical_cosmetics table\n",
    "pd.read_sql(f'SELECT * FROM {db_name}.{chem_table_name} LIMIT 5', conn)"
   ]
  },
  {
   "cell_type": "code",
   "execution_count": null,
   "id": "3e94dc27-cb9c-4d4f-8a28-8ee71e034535",
   "metadata": {
    "tags": []
   },
   "outputs": [],
   "source": [
    "# create subquery with the skin care products and sun-related products \n",
    "\n",
    "skinproducts_sub = [\"Sun-Related Products\", \"Skin Care Products \"]\n",
    "in_clause = \"', '\".join(skinproducts_sub)\n",
    "\n",
    "sub_query = f\"\"\"\n",
    "            (\n",
    "            SELECT *\n",
    "            FROM sc_cosmetics.cosmetic_chemicals\n",
    "            WHERE PrimaryCategory IN ('{in_clause}')\n",
    "            )\n",
    "\"\"\"\n",
    "\n",
    "# create a new table using the subquery\n",
    "cosmetic_chemicals_sub = f\"\"\"\n",
    "                         CREATE TABLE IF NOT EXISTS {db_name}.cosmetic_chemicals_sub AS {sub_query}\n",
    "                         \"\"\"\n",
    "\n",
    "# Execute the create table query\n",
    "with conn.cursor() as cursor:\n",
    "    cursor.execute(cosmetic_chemicals_sub)"
   ]
  },
  {
   "cell_type": "code",
   "execution_count": null,
   "id": "dc17fe48-96ec-4e52-a842-67b676a90d09",
   "metadata": {
    "tags": []
   },
   "outputs": [],
   "source": [
    "# create cosmetics table\n",
    "cos_table_name ='cosmetics'\n",
    "\n",
    "# cosmetics data S3 directory\n",
    "cos_s3_dir = f's3://{bucket}/cosmetic-ingredients-ranking-pricing'\n",
    "\n",
    "# drop table if it already exists\n",
    "drop_query = f'DROP TABLE IF EXISTS {db_name}.{cos_table_name}'\n",
    "pd.read_sql(drop_query, conn)\n",
    "\n",
    "# create table\n",
    "create_query = f\"\"\"\n",
    "                CREATE EXTERNAL TABLE IF NOT EXISTS {db_name}.{cos_table_name}(\n",
    "                Label string,\n",
    "                Brand string,\n",
    "                Name string,\n",
    "                Price float,\n",
    "                Rank float,\n",
    "                Ingredients string,\n",
    "                Combination int,\n",
    "                Dry int,\n",
    "                Normal int,\n",
    "                Oily int,\n",
    "                Sensitive int,\n",
    "                product_id int, \n",
    "                brand_id int\n",
    "                )\n",
    "                \n",
    "                ROW FORMAT DELIMITED\n",
    "                FIELDS TERMINATED BY ','\n",
    "                LOCATION '{cos_s3_dir}/'\n",
    "                TBLPROPERTIES ('skip.header.line.count'='1')\n",
    "\"\"\"\n",
    "pd.read_sql(create_query, conn)"
   ]
  },
  {
   "cell_type": "code",
   "execution_count": null,
   "id": "ec3a1370-7696-4530-afd1-f992a1d78fd8",
   "metadata": {
    "tags": []
   },
   "outputs": [],
   "source": [
    "# view top 5 rows of cosmetics table\n",
    "pd.read_sql(f'SELECT * FROM {db_name}.{cos_table_name} LIMIT 5', conn)"
   ]
  },
  {
   "cell_type": "code",
   "execution_count": null,
   "id": "0b779e6b-5d5f-493a-b203-def3fd4bd73f",
   "metadata": {
    "tags": []
   },
   "outputs": [],
   "source": [
    "# create customer table\n",
    "cust_table_name ='customer'\n",
    "\n",
    "# customer data S3 directory\n",
    "cust_s3_dir = f's3://{bucket}/customer-propensity-to-purchase'\n",
    "\n",
    "# drop table if it already exists\n",
    "drop_query = f'DROP TABLE IF EXISTS {db_name}.{cust_table_name}'\n",
    "pd.read_sql(drop_query, conn)\n",
    "\n",
    "# create table\n",
    "create_query = f\"\"\"\n",
    "                CREATE EXTERNAL TABLE IF NOT EXISTS {db_name}.{cust_table_name}(\n",
    "                UserID string,\n",
    "                basket_icon_click int,\n",
    "                basket_add_list int,\n",
    "                basket_add_detail int,\n",
    "                sort_by int,\n",
    "                account_page_click int,\n",
    "                detail_wishlist_add int,\n",
    "                list_size_dropdown int,\n",
    "                closed_minibasket_click int,\n",
    "                checked_delivery_detail int,\n",
    "                checked_returns_detail int,\n",
    "                sign_in int,\n",
    "                saw_checkout int,\n",
    "                saw_delivery int,\n",
    "                saw_homepage int,\n",
    "                device_mobile int,\n",
    "                device_computer int,\n",
    "                device_tablet int,\n",
    "                returning_user int,\n",
    "                loc_uk int,\n",
    "                ordered int,\n",
    "                product_id int\n",
    "                )\n",
    "                \n",
    "                ROW FORMAT DELIMITED\n",
    "                FIELDS TERMINATED BY ','\n",
    "                LOCATION '{cust_s3_dir}/'\n",
    "                TBLPROPERTIES ('skip.header.line.count'='1')\n",
    "\"\"\"\n",
    "pd.read_sql(create_query, conn)"
   ]
  },
  {
   "cell_type": "code",
   "execution_count": null,
   "id": "8ae03c54-6229-4fe2-9661-8ff05d11f184",
   "metadata": {
    "tags": []
   },
   "outputs": [],
   "source": [
    "# view top 5 rows of customer table\n",
    "pd.read_sql(f'SELECT * FROM {db_name}.{cust_table_name} LIMIT 5', conn)"
   ]
  },
  {
   "cell_type": "code",
   "execution_count": null,
   "id": "35f1b512-1290-4553-b707-f4eb925e20ba",
   "metadata": {
    "tags": []
   },
   "outputs": [],
   "source": [
    "statement = \"SHOW DATABASES\"\n",
    "df_show = pd.read_sql(statement, conn)\n",
    "df_show.head(5)"
   ]
  },
  {
   "cell_type": "code",
   "execution_count": null,
   "id": "28dcbe2b-254f-4d41-a5bb-e7e9bc988d7b",
   "metadata": {
    "tags": []
   },
   "outputs": [],
   "source": [
    "# define query to show tables in db\n",
    "show_tables_query = f\"SHOW TABLES IN {db_name}\"\n",
    "\n",
    "# execute query+ display tables in db\n",
    "tables_df = pd.read_sql(show_tables_query, conn)\n",
    "tables_df"
   ]
  },
  {
   "cell_type": "code",
   "execution_count": null,
   "id": "3936692b-6c26-4ccf-83a2-1c351a72beb5",
   "metadata": {
    "tags": []
   },
   "outputs": [],
   "source": [
    "if db_name in df_show.values:\n",
    "    ingest_create_athena_db_passed = True"
   ]
  },
  {
   "cell_type": "code",
   "execution_count": null,
   "id": "3c8d89b4-f874-47ff-9103-0a227e1093b0",
   "metadata": {
    "tags": []
   },
   "outputs": [],
   "source": [
    "%store ingest_create_athena_db_passed"
   ]
  },
  {
   "cell_type": "code",
   "execution_count": null,
   "id": "7c9a67f2-a172-4246-b9f2-8d57f9b184cd",
   "metadata": {
    "tags": []
   },
   "outputs": [],
   "source": [
    "# define SQL query\n",
    "query = \"\"\"\n",
    "        SELECT cu.UserID,\n",
    "               cu.basket_icon_click,\n",
    "               cu.basket_add_list,\n",
    "               cu.account_page_click,\n",
    "               cu.detail_wishlist_add,\n",
    "               cu.saw_checkout,\n",
    "               cu.device_mobile,\n",
    "               cu.device_computer, \n",
    "               cu.device_tablet,\n",
    "               cu.returning_user,\n",
    "               cu.ordered,\n",
    "               c.*,\n",
    "               ccc.PrimaryCategory,\n",
    "               ccc.SubCategory,\n",
    "               ccc.ChemicalName,\n",
    "               ccc.ChemicalCount,\n",
    "               ccc.Discontinued,\n",
    "               ccc.ChemicalRemoved\n",
    "        FROM sc_cosmetics.customer cu\n",
    "        INNER JOIN sc_cosmetics.cosmetics c ON cu.product_id = c.product_id\n",
    "        INNER JOIN sc_cosmetics.cosmetic_chemicals_sub ccc ON c.brand_id = ccc.brand_id;\n",
    "        \"\"\""
   ]
  },
  {
   "cell_type": "code",
   "execution_count": null,
   "id": "f9223717-d8c2-448d-8e1d-e7c2efb52e99",
   "metadata": {
    "tags": []
   },
   "outputs": [],
   "source": [
    "sc_df = pd.read_sql(query, conn)"
   ]
  },
  {
   "cell_type": "code",
   "execution_count": null,
   "id": "df3cda80-87e0-47e1-96e3-f0b9cf5daf6e",
   "metadata": {
    "tags": []
   },
   "outputs": [],
   "source": [
    "sc_df.sample(n=10, random_state=42)"
   ]
  },
  {
   "cell_type": "markdown",
   "id": "69cc82b5-b37a-41ed-9631-bf7eb2fcbcc3",
   "metadata": {},
   "source": [
    "## Exploratory Data Analysis (EDA)"
   ]
  },
  {
   "cell_type": "code",
   "execution_count": null,
   "id": "32eb795c-4d59-4a95-9e1b-8a9739785b12",
   "metadata": {
    "tags": []
   },
   "outputs": [],
   "source": [
    "# inspect df \n",
    "print('Number of Rows:', sc_df.shape[0])\n",
    "print('Number of Columns:', sc_df.shape[1], '\\n')\n",
    "\n",
    "sc_df.info()"
   ]
  },
  {
   "cell_type": "markdown",
   "id": "65b62cf0-2150-4ffa-9abb-9c75b7fe1250",
   "metadata": {},
   "source": [
    "### Identifying and Removing Null Values"
   ]
  },
  {
   "cell_type": "code",
   "execution_count": null,
   "id": "30ef22ea-a37a-4779-a7cb-1af3e4bb86ae",
   "metadata": {
    "tags": []
   },
   "outputs": [],
   "source": [
    "sc_df.isnull().sum()"
   ]
  },
  {
   "cell_type": "code",
   "execution_count": null,
   "id": "d399495d-7400-4b43-bf6a-5a952392acf9",
   "metadata": {
    "tags": []
   },
   "outputs": [],
   "source": [
    "# calculate missing values as a percentage of total data \n",
    "missing_percentage = (sc_df.isnull().sum() / len(sc_df)) * 100 # convert to percentage \n",
    "missing_percentage = missing_percentage.sort_values(ascending=False) # place in ascending order\n",
    "\n",
    "print('Missing Value Percentage per Column:')\n",
    "print(missing_percentage)"
   ]
  },
  {
   "cell_type": "code",
   "execution_count": null,
   "id": "fd8f28d8-4b2b-4735-ba81-7c60cf8e21b3",
   "metadata": {
    "tags": []
   },
   "outputs": [],
   "source": [
    "# impute values with rows missing less than 20% data using mode \n",
    "low_missing_cols = ['ChemicalCount', 'price', 'rank', 'dry','ChemicalRemoved', 'Discontinued']\n",
    "for col in low_missing_cols:\n",
    "    sc_df[col] = sc_df[col].fillna(sc_df[col].mode()[0])"
   ]
  },
  {
   "cell_type": "code",
   "execution_count": null,
   "id": "cafc2998-db05-4acf-b3b5-0959b1ba60f5",
   "metadata": {
    "tags": []
   },
   "outputs": [],
   "source": [
    "sc_df.isnull().sum() # confrim misisng values are handles "
   ]
  },
  {
   "cell_type": "code",
   "execution_count": null,
   "id": "ed14bcc3-462d-4c7d-801b-3373e3187f73",
   "metadata": {
    "tags": []
   },
   "outputs": [],
   "source": [
    "sc_df.head()"
   ]
  },
  {
   "cell_type": "code",
   "execution_count": null,
   "id": "d690e27f-1785-472d-aae5-ce9a5008f1af",
   "metadata": {
    "tags": []
   },
   "outputs": [],
   "source": [
    "sc_df['ChemicalName'].value_counts() # chemicals present in cosmetics "
   ]
  },
  {
   "cell_type": "code",
   "execution_count": null,
   "id": "65cc5776-2148-4176-b150-8be3e1d8dd92",
   "metadata": {
    "tags": []
   },
   "outputs": [],
   "source": [
    "sc_df.shape #30 columns and 53325 rows of data "
   ]
  },
  {
   "cell_type": "markdown",
   "id": "e265c9d3-8033-4629-86c4-eb9a73b2f57c",
   "metadata": {
    "tags": []
   },
   "source": [
    "### Visualizations "
   ]
  },
  {
   "cell_type": "markdown",
   "id": "af8446e9-7af8-4728-94ad-a869112bfee0",
   "metadata": {},
   "source": [
    "#### Histograms"
   ]
  },
  {
   "cell_type": "code",
   "execution_count": null,
   "id": "5e9fa029-3248-4b56-bcf9-6857358ad362",
   "metadata": {
    "tags": []
   },
   "outputs": [],
   "source": [
    "# list numerical predictors for histograms\n",
    "predictors = [\n",
    "    'account_page_click', 'detail_wishlist_add', 'saw_checkout', 'device_mobile', \n",
    "    'device_computer', 'device_tablet', 'ordered', 'price', 'rank', 'product_id', \n",
    "    'brand_id', 'ChemicalCount', 'Discontinued', 'ChemicalRemoved'\n",
    "]\n",
    "\n",
    "# create figure\n",
    "num_cols = 4\n",
    "num_rows = (len(predictors) - 1) // num_cols + 1\n",
    "plt.figure(figsize=(18, 14))  \n",
    "\n",
    "# create histograms \n",
    "for i, predictor in enumerate(predictors):\n",
    "    plt.subplot(num_rows, num_cols, i + 1)  \n",
    "    plt.hist(sc_df[predictor], bins=20, edgecolor='black')\n",
    "    plt.title(f'Histogram of {predictor}')\n",
    "    plt.xlabel(predictor)\n",
    "    plt.ylabel('Frequency')\n",
    "\n",
    "plt.tight_layout()  \n",
    "plt.show()"
   ]
  },
  {
   "cell_type": "markdown",
   "id": "8f01ddd6-3351-41aa-8198-f7149e00a332",
   "metadata": {},
   "source": [
    "#### Box Plots"
   ]
  },
  {
   "cell_type": "code",
   "execution_count": null,
   "id": "48c22641-d8db-4054-b4c2-c0795fae32ad",
   "metadata": {
    "tags": []
   },
   "outputs": [],
   "source": [
    "# list numerical predictors to create boxplots \n",
    "predictors = numerical_predictors = [\n",
    "    'account_page_click','detail_wishlist_add', 'saw_checkout', 'device_mobile', \n",
    "    'device_computer', 'device_tablet', 'ordered', 'price', 'rank', 'product_id', \n",
    "    'brand_id', 'ChemicalCount', 'Discontinued', 'ChemicalRemoved'\n",
    "]\n",
    "\n",
    "# create figure for boxplots subplots \n",
    "plt.figure(figsize=(18, 14))  \n",
    "\n",
    "# create boxplots for each predictor\n",
    "for i, predictor in enumerate(predictors):\n",
    "    plt.subplot(6, 4, i + 1)  \n",
    "    sns.boxplot(data=sc_df, y=predictor, width=0.5)\n",
    "    plt.title(f'Boxplot of {predictor}')\n",
    "    plt.ylabel(predictor)\n",
    "\n",
    "plt.tight_layout()  \n",
    "plt.show()"
   ]
  },
  {
   "cell_type": "markdown",
   "id": "094ef7e1-fdbc-4f4f-aad0-74f1e8a98e44",
   "metadata": {},
   "source": [
    "#### Bar Plots "
   ]
  },
  {
   "cell_type": "code",
   "execution_count": null,
   "id": "999e370b-fe3b-4d75-a06b-5e3f37f608ee",
   "metadata": {
    "tags": []
   },
   "outputs": [],
   "source": [
    "# list of selected columns for bar plot \n",
    "selected_columns = [\n",
    "    'basket_icon_click', 'basket_add_list', 'account_page_click', \n",
    "    'detail_wishlist_add', 'saw_checkout', 'device_mobile', \n",
    "    'device_computer', 'device_tablet', 'returning_user', \n",
    "    'ordered', 'combination', 'dry', 'normal', 'oily', 'sensitive', \n",
    "    'ChemicalCount', 'Discontinued', 'ChemicalRemoved','PrimaryCategory', 'label'\n",
    "]\n",
    "\n",
    "# calculate the number of rows and columns for the subplot grid\n",
    "num_cols = 3\n",
    "num_rows = (len(selected_columns) - 1) // num_cols + 1\n",
    "\n",
    "# create subplots and flatten axis\n",
    "fig, axes = plt.subplots(num_rows, num_cols, figsize=(25, 30))\n",
    "axes = axes.flatten()\n",
    "\n",
    "# iterate through selected columns and create horizontal countplots\n",
    "for i, column in enumerate(selected_columns):\n",
    "    sns.countplot(data=sc_df, y=column, ax=axes[i])\n",
    "    axes[i].tick_params(axis='x', rotation=45)  \n",
    "\n",
    "    axes[i].set_title(f'{column}')\n",
    "    axes[i].set_xlabel('Count')\n",
    "    axes[i].set_ylabel('')\n",
    "\n",
    "# remove empty subplots\n",
    "for i in range(len(selected_columns), num_rows * num_cols):\n",
    "    fig.delaxes(axes[i])\n",
    "\n",
    "plt.tight_layout()\n",
    "plt.show()"
   ]
  },
  {
   "cell_type": "markdown",
   "id": "765086e5-7f2e-499b-9a86-eb3865be4f16",
   "metadata": {},
   "source": [
    "#### Class Imbalance \n",
    "#### ('ordered' and 'saw_checkout')"
   ]
  },
  {
   "cell_type": "code",
   "execution_count": null,
   "id": "278fbe39-524b-4297-a3c4-2f4b442ea9f8",
   "metadata": {},
   "outputs": [],
   "source": [
    "# check distribution of classes before adding class\n",
    "print(\"\\nBefore balancing:\")\n",
    "print(sc_df['ordered'].value_counts())\n",
    "print(sc_df['saw_checkout'].value_counts())"
   ]
  },
  {
   "cell_type": "code",
   "execution_count": null,
   "id": "1934f4e3-e30f-4d40-b466-d42bcdb09baa",
   "metadata": {
    "tags": []
   },
   "outputs": [],
   "source": [
    "# shuffle df to ensure randomness\n",
    "sc_shuffled = sc_df.sample(frac=1)\n",
    "sc_shuffled['ChemicalCount'] = sc_shuffled['ChemicalCount'].astype(int)\n",
    "\n",
    "# define columns to balance \n",
    "columns_to_balance = ['ordered', 'saw_checkout']\n",
    "\n",
    "# calculate number of records for 'saw_checkout' class 1 to maintain 60% balance\n",
    "num_records_to_change_saw_checkout = int(len(sc_shuffled[sc_shuffled['saw_checkout'] == 1]) * 0.6)\n",
    "records_to_change_saw_checkout = sc_shuffled[sc_shuffled['saw_checkout'] == 1].head(num_records_to_change_saw_checkout)\n",
    "records_to_change_saw_checkout['saw_checkout'] = 0\n",
    "\n",
    "# update df \n",
    "sc_shuffled.loc[records_to_change_saw_checkout.index, 'saw_checkout'] = records_to_change_saw_checkout['saw_checkout']\n",
    "\n",
    "\n",
    "# define threshold for chemical count to determine class imbalance\n",
    "chemical_count_threshold = 1\n",
    "\n",
    "# calculate the number of records to change for 'ordered' class 1 based on chemical count \n",
    "num_records_to_change_ordered = int(len(sc_shuffled[(sc_shuffled['ordered'] == 1) & \n",
    "                                                    (sc_shuffled['ChemicalCount'] <= chemical_count_threshold)]))\n",
    "\n",
    "# select records where 'ordered' = 1 and chemical count does not exceed the threshold\n",
    "records_to_change_ordered = sc_shuffled[(sc_shuffled['ordered'] == 1) & \n",
    "                                        (sc_shuffled['ChemicalCount'] <= chemical_count_threshold)].head(num_records_to_change_ordered)\n",
    "records_to_change_ordered['ordered'] = 0\n",
    "\n",
    "# update df \n",
    "sc_shuffled.loc[records_to_change_ordered.index, 'ordered'] = records_to_change_ordered['ordered']"
   ]
  },
  {
   "cell_type": "code",
   "execution_count": null,
   "id": "1f88c5b0-5b3e-4932-9682-d5dfd284134e",
   "metadata": {
    "tags": []
   },
   "outputs": [],
   "source": [
    "# check distribution of classes after adding class\n",
    "print(\"\\nAfter balancing:\")\n",
    "print(sc_shuffled ['saw_checkout'].value_counts())\n",
    "print(sc_shuffled ['ordered'].value_counts())"
   ]
  },
  {
   "cell_type": "code",
   "execution_count": null,
   "id": "793342bb-9df0-4b37-a97b-c94f9401a05c",
   "metadata": {
    "tags": []
   },
   "outputs": [],
   "source": [
    "plt.figure(figsize=(10, 6))\n",
    "\n",
    "# bar plot for 'ordered' column\n",
    "plt.bar(['Not Ordered', 'Ordered'], sc_shuffled['ordered'].value_counts(), color='blue', label='Ordered')\n",
    "\n",
    "# bar plot for 'saw_checkout' column\n",
    "plt.bar(['Not Checked Out', 'Checked Out'], sc_shuffled['saw_checkout'].value_counts(), color='red', label='Saw Checkout', alpha=0.5)\n",
    "\n",
    "plt.xlabel('Class')\n",
    "plt.ylabel('Count')\n",
    "plt.title('Class Imbalance After Balancing')\n",
    "plt.legend()\n",
    "plt.tight_layout()\n",
    "\n",
    "plt.show()"
   ]
  },
  {
   "cell_type": "code",
   "execution_count": null,
   "id": "26876f09-7f39-4a5f-9b2a-a65496e6c024",
   "metadata": {
    "tags": []
   },
   "outputs": [],
   "source": [
    "checkout_distribution = sc_shuffled['saw_checkout'].value_counts(normalize=True)\n",
    "print(\"Class Distribution for Saw Check Out:\\n\", checkout_distribution)\n",
    "\n",
    "ordered_distribution = sc_shuffled['ordered'].value_counts(normalize=True)\n",
    "print(\"Class Distribution for Ordered:\\n\", ordered_distribution)"
   ]
  },
  {
   "cell_type": "code",
   "execution_count": null,
   "id": "580b9367-f54d-452f-a023-b9b9a4f4104f",
   "metadata": {
    "tags": []
   },
   "outputs": [],
   "source": [
    "balanced_df = sc_shuffled.copy()\n",
    "balanced_df.info()"
   ]
  },
  {
   "cell_type": "code",
   "execution_count": null,
   "id": "1ab5503a-1200-44c1-957a-438d0ee94045",
   "metadata": {
    "tags": []
   },
   "outputs": [],
   "source": [
    "fig, axs = plt.subplots(2, 3, figsize=(15, 10))\n",
    "\n",
    "# count of ordered by product category\n",
    "order_count_by_category = balanced_df.groupby('PrimaryCategory')['ordered'].sum()\n",
    "order_count_by_category.plot(kind='bar', ax=axs[0, 0], \n",
    "                             xlabel='Product Category', ylabel='Order Count', \n",
    "                             title='Orders by Product Category')\n",
    "\n",
    "# composition of skin types\n",
    "skin_type_counts = balanced_df[['dry', 'normal', 'oily', 'sensitive']].sum()\n",
    "skin_type_counts.plot(kind='bar', stacked=True, ax=axs[0, 1], \n",
    "                      xlabel='Skin Types', ylabel='Count', \n",
    "                      title='Composition of Skin Types')\n",
    "\n",
    "# device usage \n",
    "device_usage = balanced_df[['device_computer', 'device_tablet', 'device_mobile']].astype(int)\n",
    "device_usage_counts = device_usage.groupby(device_usage.columns.tolist()).size().unstack(fill_value=0)\n",
    "sns.heatmap(device_usage_counts, ax=axs[0, 2], cmap=\"Blues\", annot=True, fmt=\"d\",\n",
    "            cbar_kws={'label': 'Count'}, \n",
    "            linewidths=0.5, linecolor='black')\n",
    "axs[0, 2].set_title('Device Usage')\n",
    "\n",
    "# returning vs new users \n",
    "returning_new_users = pd.crosstab(balanced_df['returning_user'], \n",
    "                                  balanced_df['ordered'])\n",
    "\n",
    "returning_new_users.plot(kind='bar', stacked=True, ax=axs[1, 0], \n",
    "                         xlabel='User Type', ylabel='Count', \n",
    "                         title='Returning vs. New Users')\n",
    "\n",
    "# distribution of ratings \n",
    "sns.histplot(data=balanced_df, x='rank', bins=10, kde=True, ax=axs[1, 1])\n",
    "axs[1, 1].set_xlabel('Rating')\n",
    "axs[1, 1].set_ylabel('Frequency')\n",
    "axs[1, 1].set_title('Distribution of Ratings')\n",
    "\n",
    "# discontinued products \n",
    "discontinued_category_counts = pd.crosstab(index=balanced_df['Discontinued'], \n",
    "                                           columns=balanced_df['PrimaryCategory'])\n",
    "\n",
    "discontinued_category_counts.plot(kind='bar', stacked=True, ax=axs[1, 2], \n",
    "                                  xlabel='Discontinued', ylabel='Count', \n",
    "                                  title='Discontinued Products by Category')\n",
    "\n",
    "plt.tight_layout()\n",
    "plt.show()"
   ]
  },
  {
   "cell_type": "code",
   "execution_count": null,
   "id": "843d7949-bf21-49f0-be32-f55797dabade",
   "metadata": {
    "tags": []
   },
   "outputs": [],
   "source": [
    "#  order count by brand and product category\n",
    "order_count_by_brand_category = balanced_df.groupby(['brand', 'PrimaryCategory'])['ordered'].sum().unstack().fillna(0)\n",
    "order_count_by_brand = order_count_by_brand_category.sum(axis=1).sort_values()\n",
    "order_count_by_brand_category = order_count_by_brand_category.loc[order_count_by_brand.index]\n",
    "\n",
    "\n",
    "order_count_by_brand_category.plot(kind='barh', stacked=True, figsize=(20, 20))\n",
    "plt.xlabel('Order Count')\n",
    "plt.ylabel('Product Category')\n",
    "plt.title('Orders by Brand and Product Category')\n",
    "plt.legend(title='Brand', bbox_to_anchor=(1.05, 1), loc='upper left')\n",
    "plt.tight_layout()\n",
    "plt.show()"
   ]
  },
  {
   "cell_type": "code",
   "execution_count": null,
   "id": "75f47a2a-58e2-427a-af68-cdb67bf81d53",
   "metadata": {
    "tags": []
   },
   "outputs": [],
   "source": [
    "# plot the average price by brand\n",
    "avg_price_by_brand = balanced_df.groupby('brand')['price'].mean().sort_values()\n",
    "\n",
    "plt.figure(figsize=(20, 20))\n",
    "avg_price_by_brand.plot(kind='barh')\n",
    "plt.xlabel('Brand')\n",
    "plt.ylabel('Average Price')\n",
    "plt.title('Average Price by Brand')\n",
    "plt.tight_layout()\n",
    "plt.show()"
   ]
  },
  {
   "cell_type": "code",
   "execution_count": null,
   "id": "90ffdb3c-036b-498b-b7d1-656131695fd9",
   "metadata": {
    "tags": []
   },
   "outputs": [],
   "source": [
    "# number of unique chemicals per brand\n",
    "chemicals_by_brand = balanced_df.groupby('brand')['ChemicalName'].nunique().sort_values()\n",
    "plt.figure(figsize=(20, 20))\n",
    "chemicals_by_brand.plot(kind='barh')\n",
    "plt.xlabel('Number of Unique Chemicals')\n",
    "plt.ylabel('Brand')\n",
    "plt.title('Number of Unique Chemicals by Brand')\n",
    "plt.tight_layout()\n",
    "plt.show()"
   ]
  },
  {
   "cell_type": "code",
   "execution_count": null,
   "id": "aa6bd9a4-2f8b-4f59-b388-2e9477a0ee11",
   "metadata": {
    "tags": []
   },
   "outputs": [],
   "source": [
    "# pivot table to aggregate the binary values for each chemical and skin type combination\n",
    "pivot_table = balanced_df.pivot_table(index='ChemicalName', \n",
    "                                values=['dry', 'normal', 'oily', 'sensitive'], \n",
    "                                aggfunc='sum')"
   ]
  },
  {
   "cell_type": "code",
   "execution_count": null,
   "id": "0164368a-4467-4236-8a7d-7a6e0b885ccc",
   "metadata": {
    "tags": []
   },
   "outputs": [],
   "source": [
    "# calculate total number of chemicals per skin type\n",
    "pivot_table['total'] = pivot_table.sum(axis=1)\n",
    "\n",
    "# calculate percentage of each skin type for each chemical\n",
    "for col in pivot_table.columns:\n",
    "    pivot_table[col] = pivot_table[col] / pivot_table['total'] * 100\n",
    "pivot_table.drop(columns='total', inplace=True)\n",
    "\n",
    "# set figure size\n",
    "plt.figure(figsize=(18, 10))\n",
    "\n",
    "# plot % of skin types for each chemical \n",
    "pivot_table.plot(kind='barh', stacked=True, figsize=(18, 10))\n",
    "plt.xlabel('Chemical Name')\n",
    "plt.ylabel('Percentage of Skin Types')\n",
    "plt.title('Percentage of Skin Types for Each Chemical')\n",
    "\n",
    "plt.legend(title='Skin Type', loc='upper right')\n",
    "plt.show();"
   ]
  },
  {
   "cell_type": "code",
   "execution_count": null,
   "id": "63c59aa3-fb7f-46d2-b8b4-a3bb46dc6779",
   "metadata": {
    "tags": []
   },
   "outputs": [],
   "source": [
    "# count occurrences of each chemical\n",
    "chemical_counts = balanced_df['ChemicalName'].value_counts()\n",
    "chemical_counts_sorted = chemical_counts.sort_values(ascending=True)\n",
    "\n",
    "# plot bar chart\n",
    "plt.figure(figsize=(12, 8))\n",
    "chemical_counts_sorted.plot(kind='barh')\n",
    "plt.title('Occurrences of Chemicals')\n",
    "plt.xlabel('Count')\n",
    "plt.ylabel('Chemical Name')\n",
    "plt.tight_layout()\n",
    "plt.show()"
   ]
  },
  {
   "cell_type": "code",
   "execution_count": null,
   "id": "32e5142b-48f9-4fe1-bb25-695a906affa4",
   "metadata": {
    "tags": []
   },
   "outputs": [],
   "source": [
    "# summary statistics of target column 'ordered'\n",
    "balanced_df['ordered'].describe()"
   ]
  },
  {
   "cell_type": "code",
   "execution_count": null,
   "id": "566799e3-165f-4d6b-9326-6134b45ff3fb",
   "metadata": {
    "tags": []
   },
   "outputs": [],
   "source": [
    "# create df for top chemicals + whether they were bought \n",
    "top_n_chemicals = balanced_df['ChemicalName'].value_counts().nlargest(10).index\n",
    "top_n_df = balanced_df[balanced_df['ChemicalName'].isin(top_n_chemicals)]\n",
    "\n",
    "# set figure\n",
    "plt.figure(figsize=(20, 10))\n",
    "sns.countplot(data=top_n_df, x=\"ChemicalName\", hue=\"ordered\")\n",
    "plt.show()"
   ]
  },
  {
   "cell_type": "code",
   "execution_count": null,
   "id": "2c705941-a712-4463-8c2e-f8bdde5e76a0",
   "metadata": {
    "tags": []
   },
   "outputs": [],
   "source": [
    "plt.figure(figsize=(18, 10))\n",
    "\n",
    "# relationship between returning vs. new users and ordered status\n",
    "plt.subplot(2, 2, 1)\n",
    "sns.countplot(data=balanced_df, x='returning_user', hue='ordered')\n",
    "plt.title('Relationship between Returning vs. New Users and Ordered Status')\n",
    "\n",
    "# distribution of ratings for ordered and non-ordered products\n",
    "plt.subplot(2, 2, 2)\n",
    "sns.histplot(data=balanced_df, x='rank', hue='ordered', kde=True)\n",
    "plt.title('Distribution of Ratings for Ordered and Non-Ordered Products')\n",
    "\n",
    "plt.tight_layout()\n",
    "plt.show()"
   ]
  },
  {
   "cell_type": "code",
   "execution_count": null,
   "id": "b1f0a10c-7544-4328-9b27-788c867ae429",
   "metadata": {
    "tags": []
   },
   "outputs": [],
   "source": [
    "correlation_matrix = balanced_df.corr()\n",
    "plt.figure(figsize=(12, 8))\n",
    "sns.heatmap(correlation_matrix, annot=True, cmap='coolwarm', fmt=\".2f\")\n",
    "plt.title('Correlation Matrix')\n",
    "plt.show()"
   ]
  },
  {
   "cell_type": "markdown",
   "id": "a9b68a39-7eb8-4cae-924e-b5c2ce3468ce",
   "metadata": {},
   "source": [
    "### Data Scrubbing "
   ]
  },
  {
   "cell_type": "markdown",
   "id": "263d907f-ecd1-4c16-a836-2faeab3a26cf",
   "metadata": {},
   "source": [
    "#### Data Consistency"
   ]
  },
  {
   "cell_type": "code",
   "execution_count": null,
   "id": "91ef9d29-c4da-46df-9f06-2489d4e071db",
   "metadata": {
    "tags": []
   },
   "outputs": [],
   "source": [
    "# Data consitency w/device columns \n",
    "inconsistent_records = balanced_df[(balanced_df['device_mobile'] + balanced_df['device_computer'] + balanced_df['device_tablet']) > 1]\n",
    "print(\"Inconsistent records:\", inconsistent_records)"
   ]
  },
  {
   "cell_type": "code",
   "execution_count": null,
   "id": "601bd786-ab4f-4d52-a6b1-3c28aeb1d856",
   "metadata": {
    "tags": []
   },
   "outputs": [],
   "source": [
    "# drop inconcistent records - rows where the sum of device columns is greater than 1 (1049 rows were picked up to have suplicate values)\n",
    "inconsistent_records_index = (balanced_df['device_mobile'] + balanced_df['device_computer'] + balanced_df['device_tablet']) > 1\n",
    "balanced_df.drop(inconsistent_records_index.index[inconsistent_records_index], inplace=True)"
   ]
  },
  {
   "cell_type": "code",
   "execution_count": null,
   "id": "b93f5d6a-14a6-4721-a920-ea6b72a0e18f",
   "metadata": {
    "tags": []
   },
   "outputs": [],
   "source": [
    "balanced_df.shape #shape after duplicate values were dropped "
   ]
  },
  {
   "cell_type": "markdown",
   "id": "ce3520e3-f9be-44a3-bb77-b71f1e82e151",
   "metadata": {},
   "source": [
    "#### Data Type Conversion "
   ]
  },
  {
   "cell_type": "code",
   "execution_count": null,
   "id": "ed982b01-7842-41e6-bc4f-83dfc5b2df7b",
   "metadata": {
    "tags": []
   },
   "outputs": [],
   "source": [
    "balanced_df.info()"
   ]
  },
  {
   "cell_type": "code",
   "execution_count": null,
   "id": "37a04ef4-10db-4fa6-b1c5-8b612b234bd4",
   "metadata": {
    "tags": []
   },
   "outputs": [],
   "source": [
    "# convert Rank, Discontinued, and ChemicalRemoved, Dry to integer type\n",
    "balanced_df['rank'] = balanced_df['rank'].astype(int)\n",
    "balanced_df['Discontinued'] = balanced_df['Discontinued'].astype(int)\n",
    "balanced_df['ChemicalRemoved'] = balanced_df['ChemicalRemoved'].astype(int)\n",
    "balanced_df['dry'] = balanced_df['dry'].astype(int)"
   ]
  },
  {
   "cell_type": "markdown",
   "id": "917bd939-f3ac-4e08-8380-eb48cd0adca1",
   "metadata": {
    "tags": []
   },
   "source": [
    "#### Outlier Detection "
   ]
  },
  {
   "cell_type": "code",
   "execution_count": null,
   "id": "f8569c80-7b21-4a57-b07e-5ef387164da9",
   "metadata": {
    "tags": []
   },
   "outputs": [],
   "source": [
    "# visulaize potential outliers \n",
    "def visualize_distribution(balanced_df, columns):\n",
    "    fig, axes = plt.subplots(nrows=1, ncols=len(columns), figsize=(16, 5))\n",
    "    for i, col in enumerate(columns):\n",
    "        sns.histplot(balanced_df[col], ax=axes[i], kde=True)\n",
    "        axes[i].set_title(col)\n",
    "        axes[i].set_xlabel('')\n",
    "    plt.tight_layout()\n",
    "    plt.show()\n",
    "\n",
    "# define numerical columns for visualization\n",
    "numerical_columns = ['price', 'rank', 'ChemicalCount', 'Discontinued', 'ChemicalRemoved']\n",
    "visualize_distribution(balanced_df, numerical_columns)"
   ]
  },
  {
   "cell_type": "code",
   "execution_count": null,
   "id": "0a7d18b7-3688-4c80-b218-ddb8a0dd8f66",
   "metadata": {
    "tags": []
   },
   "outputs": [],
   "source": [
    " balanced_df[numerical_columns].describe() #outliers will remain in the df "
   ]
  },
  {
   "cell_type": "code",
   "execution_count": null,
   "id": "fc4d3500-d4b7-4ba6-b5a2-bd3e9bedce15",
   "metadata": {
    "tags": []
   },
   "outputs": [],
   "source": [
    "balanced_df['ChemicalCount'].value_counts() # inspect chemical count distribution "
   ]
  },
  {
   "cell_type": "markdown",
   "id": "a7b5bf52-e677-4873-a918-93cafad3997e",
   "metadata": {},
   "source": [
    "#### Duplicate Values "
   ]
  },
  {
   "cell_type": "code",
   "execution_count": null,
   "id": "0239a00f-c1ff-4c81-9f65-fe0daf42e564",
   "metadata": {
    "tags": []
   },
   "outputs": [],
   "source": [
    "# check for duplicates\n",
    "balanced_df.duplicated().sum() #original df is 52276 rows "
   ]
  },
  {
   "cell_type": "code",
   "execution_count": null,
   "id": "0c32c3bc-3bba-4152-9f95-13a57761ea28",
   "metadata": {
    "tags": []
   },
   "outputs": [],
   "source": [
    "duplicate_rows = balanced_df[balanced_df.duplicated()]\n",
    "duplicate_rows.head()"
   ]
  },
  {
   "cell_type": "code",
   "execution_count": null,
   "id": "564948ff-22b1-41e1-9c6f-ad4493480218",
   "metadata": {
    "tags": []
   },
   "outputs": [],
   "source": [
    "duplicate_rows['UserID'].value_counts() #UserID has duplicate values, rows will be dropped"
   ]
  },
  {
   "cell_type": "code",
   "execution_count": null,
   "id": "e42969e2-3a50-4697-a67f-204ba3bd398f",
   "metadata": {
    "tags": []
   },
   "outputs": [],
   "source": [
    "# remove duplicate rows \n",
    "clean_df = balanced_df.drop_duplicates()\n",
    "clean_df = clean_df.reset_index(drop=True)"
   ]
  },
  {
   "cell_type": "code",
   "execution_count": null,
   "id": "3553986d-f81c-44dc-b78c-8ab6ef135362",
   "metadata": {
    "tags": []
   },
   "outputs": [],
   "source": [
    "# inspect df \n",
    "print('Number of Rows:', clean_df.shape[0])\n",
    "print('Number of Columns:', clean_df.shape[1], '\\n')\n",
    "\n",
    "clean_df.info()"
   ]
  },
  {
   "cell_type": "code",
   "execution_count": null,
   "id": "74e91af2-1e19-4c27-a295-117b91d10ff4",
   "metadata": {
    "tags": []
   },
   "outputs": [],
   "source": [
    "clean_df.head()"
   ]
  },
  {
   "cell_type": "markdown",
   "id": "c4782f60-eb65-40b3-a8a5-f92639b670d9",
   "metadata": {},
   "source": [
    "### Feature Selection "
   ]
  },
  {
   "cell_type": "markdown",
   "id": "14d9ebad-121f-4e21-a360-c319c367535d",
   "metadata": {
    "tags": []
   },
   "source": [
    "#### Chi-Square \n",
    "\n",
    "We will use chi-square to identify columns with high p-values and remove the redundant/irrelevant columns. "
   ]
  },
  {
   "cell_type": "code",
   "execution_count": null,
   "id": "c6411ec4-546d-4f2c-bab4-d0ae830c6da3",
   "metadata": {
    "tags": []
   },
   "outputs": [],
   "source": [
    "# define target column to be analyzed for assocation \n",
    "target_column = 'ordered'\n",
    "\n",
    "# create an empty array to store the results of chi-square test\n",
    "chi_results = []\n",
    "\n",
    "# iterate through all columns (excluding the target column)\n",
    "for column in clean_df.columns:\n",
    "    if column != target_column:\n",
    "        # create a contingency table for the independent and target variable\n",
    "        cross_tab = pd.crosstab(index=clean_df[column], columns=clean_df[target_column])\n",
    "        # perform chi-square test\n",
    "        chi2, p, dof, expected = chi2_contingency(cross_tab)\n",
    "        # append results to the list\n",
    "        chi_results.append({\n",
    "            'Variable': column,\n",
    "            'Chi-Square Value': chi2,\n",
    "            'P-Value': p,\n",
    "            'Degrees of Freedom': dof\n",
    "        })\n",
    "\n",
    "\n",
    "# display results in a df \n",
    "chi_df = pd.DataFrame(chi_results)\n",
    "chi_df"
   ]
  },
  {
   "cell_type": "code",
   "execution_count": null,
   "id": "f4f50fe9-46ce-41db-99a9-f725935b633d",
   "metadata": {
    "tags": []
   },
   "outputs": [],
   "source": [
    "# drop redundant columns such as userid, product_id, and brand_id and those identified with non-signifcant p-values\n",
    "clean_df.drop(['UserID', 'name', 'brand_id', 'PrimaryCategory', 'SubCategory', 'ingredients', \n",
    "               'basket_icon_click', 'basket_add_list', 'ChemicalRemoved', 'ChemicalCount'], axis=1, inplace=True)"
   ]
  },
  {
   "cell_type": "markdown",
   "id": "db8868f8-3e0b-4e91-ba11-4aa46aaee81d",
   "metadata": {},
   "source": [
    "#### Variance Inflation Factor (VIF)"
   ]
  },
  {
   "cell_type": "code",
   "execution_count": null,
   "id": "7bf1a8ce-0709-4e9f-8523-7b40d39ea983",
   "metadata": {
    "tags": []
   },
   "outputs": [],
   "source": [
    "X_numeric = clean_df.select_dtypes(include=['float64', 'int64'])\n",
    "\n",
    "# create a df for VIF values\n",
    "vif = pd.DataFrame()\n",
    "vif[\"Variable\"] = X_numeric.columns\n",
    "\n",
    "# calculate/store VIF values for each numeric variable\n",
    "vif[\"VIF\"] = [variance_inflation_factor(X_numeric.values, i) for i in range(X_numeric.shape[1])]\n",
    "print(vif)"
   ]
  },
  {
   "cell_type": "markdown",
   "id": "de10e74a-9d60-46bf-a4b4-284cafc552c2",
   "metadata": {},
   "source": [
    "It's recommended to drop variables with high VIF values (>10) as they indicate significant multicollinearity. The following columns will be dropped: device_mobile, device_computer, device_tablet. "
   ]
  },
  {
   "cell_type": "code",
   "execution_count": null,
   "id": "6ca57755-a439-41e2-bf19-ac6298ba139c",
   "metadata": {
    "tags": []
   },
   "outputs": [],
   "source": [
    "# drop specified columns\n",
    "clean_df.drop(['device_mobile', 'device_computer', 'device_tablet'], axis=1, inplace=True)"
   ]
  },
  {
   "cell_type": "code",
   "execution_count": null,
   "id": "a73ae752-2abe-4672-8113-a86947a24e0c",
   "metadata": {
    "tags": []
   },
   "outputs": [],
   "source": [
    "# create correlation matrix with reduced df \n",
    "correlation_matrix = clean_df.corr()\n",
    "plt.figure(figsize=(12, 8))\n",
    "sns.heatmap(correlation_matrix, annot=True, cmap='coolwarm', fmt=\".2f\")\n",
    "plt.title('Correlation Matrix')\n",
    "plt.show()"
   ]
  },
  {
   "cell_type": "code",
   "execution_count": null,
   "id": "e676bf6d-6c37-4ee6-8c79-8d6832c2bc9d",
   "metadata": {
    "tags": []
   },
   "outputs": [],
   "source": [
    "# correlation bewteen ordered and other variables \n",
    "ordered_correlation = correlation_matrix['ordered']\n",
    "ordered_correlation"
   ]
  },
  {
   "cell_type": "markdown",
   "id": "5a94a5a0-2597-4e1a-8184-be9f42aef698",
   "metadata": {},
   "source": [
    "#### Feature Transformation"
   ]
  },
  {
   "cell_type": "code",
   "execution_count": null,
   "id": "b41080c3-14b8-4722-acb2-4bc4659f8f25",
   "metadata": {
    "tags": []
   },
   "outputs": [],
   "source": [
    "# one hot encode categorical variables\n",
    "cat_col = [\"label\", \"brand\", \"ChemicalName\", \"rank\"]\n",
    "clean_df['ChemicalName'] = clean_df['ChemicalName'].str.replace('\"', '')\n",
    "encoded_df = pd.get_dummies(clean_df, columns=cat_col)"
   ]
  },
  {
   "cell_type": "code",
   "execution_count": null,
   "id": "f2a079f8-d398-48c8-85d0-80c31655fd87",
   "metadata": {
    "tags": []
   },
   "outputs": [],
   "source": [
    "encoded_df.head()"
   ]
  },
  {
   "cell_type": "code",
   "execution_count": null,
   "id": "50a5518d-eed7-474c-899f-ee8e8269f09f",
   "metadata": {
    "tags": []
   },
   "outputs": [],
   "source": [
    "encoded_df.shape"
   ]
  },
  {
   "cell_type": "markdown",
   "id": "0432e251-3328-48fa-88c3-bbf6b598e9ae",
   "metadata": {},
   "source": [
    "#### PCA"
   ]
  },
  {
   "cell_type": "code",
   "execution_count": null,
   "id": "224e416b-67bf-4421-8a11-5ca7ed3fd524",
   "metadata": {
    "tags": []
   },
   "outputs": [],
   "source": [
    "# create a copy of encoded_df before applying PCA \n",
    "pca_df = encoded_df.copy()"
   ]
  },
  {
   "cell_type": "code",
   "execution_count": null,
   "id": "e77c2edf-aad7-484f-9257-90218cd260fb",
   "metadata": {
    "tags": []
   },
   "outputs": [],
   "source": [
    "# standardize the data\n",
    "scaler = StandardScaler()\n",
    "# fit and transform data using scaler \n",
    "df_standardized = scaler.fit_transform(pca_df)"
   ]
  },
  {
   "cell_type": "code",
   "execution_count": null,
   "id": "c51f8a10-9b56-4c9e-81e0-7d68844cd0e0",
   "metadata": {
    "tags": []
   },
   "outputs": [],
   "source": [
    "# apply PCA\n",
    "pca = PCA()\n",
    "pca.fit(df_standardized)\n",
    "\n",
    "# calculate the cumulative explained variance ratio\n",
    "explained_variance_ratio_cumulative = np.cumsum(pca.explained_variance_ratio_)"
   ]
  },
  {
   "cell_type": "code",
   "execution_count": null,
   "id": "64cde4b2-d204-4955-8b65-a4e6f3d24110",
   "metadata": {
    "tags": []
   },
   "outputs": [],
   "source": [
    "# plot cumulative explained variance ratio\n",
    "plt.plot(range(1, len(explained_variance_ratio_cumulative) + 1), explained_variance_ratio_cumulative, marker='o')\n",
    "plt.xlabel('Number of Components')\n",
    "plt.ylabel('Cumulative Explained Variance Ratio')\n",
    "plt.title('Cumulative Explained Variance Ratio vs. Number of Components')\n",
    "plt.show()"
   ]
  },
  {
   "cell_type": "code",
   "execution_count": null,
   "id": "861217ac-b451-46bf-8abc-3445319e973e",
   "metadata": {
    "tags": []
   },
   "outputs": [],
   "source": [
    "# find the number of components that fall within 80% to 90% cumulative explained variance\n",
    "target_variance_range = (0.80, 0.90)\n",
    "\n",
    "# use NumPy to find the index of the first component within the specified variance range\n",
    "target_components = np.where((explained_variance_ratio_cumulative >= target_variance_range[0]) &\n",
    "                             (explained_variance_ratio_cumulative <= target_variance_range[1]))[0][0] + 1\n",
    "\n",
    "print(\"Ideal number of components within 80% to 90% variance range:\", target_components)"
   ]
  },
  {
   "cell_type": "code",
   "execution_count": null,
   "id": "3f3fe4e3-d142-41bb-8cf0-ddd3cb2b3977",
   "metadata": {
    "tags": []
   },
   "outputs": [],
   "source": [
    "# extract target variable\n",
    "y = encoded_df['ordered']\n",
    "X = encoded_df.drop(columns=['ordered'])\n",
    "\n",
    "# standardize the data\n",
    "scaler = StandardScaler()\n",
    "X_scaled = scaler.fit_transform(X)\n",
    "\n",
    "# apply PCA\n",
    "pca = PCA(n_components=97)  \n",
    "X_pca = pca.fit_transform(X_scaled)"
   ]
  },
  {
   "cell_type": "code",
   "execution_count": null,
   "id": "e6e4dc82-29d3-4c70-9dca-40a767a94ad1",
   "metadata": {
    "tags": []
   },
   "outputs": [],
   "source": [
    "# concatenate transformed features with target variable\n",
    "pca_df= pd.DataFrame(X_pca, columns=[f'pca_{i}' for i in range(X_pca.shape[1])])\n",
    "pca_df['ordered'] = y.values"
   ]
  },
  {
   "cell_type": "code",
   "execution_count": null,
   "id": "c5c0e8fe-60ed-443a-bf0a-87453801ae65",
   "metadata": {
    "tags": []
   },
   "outputs": [],
   "source": [
    "pca_df.head()"
   ]
  },
  {
   "cell_type": "markdown",
   "id": "3333c0c7-7299-4f38-8616-795e713dd240",
   "metadata": {},
   "source": [
    "### Test, Validation, Train Split"
   ]
  },
  {
   "cell_type": "code",
   "execution_count": null,
   "id": "57ce60c1-f88f-437e-ad5b-4ec7d9feecda",
   "metadata": {
    "tags": []
   },
   "outputs": [],
   "source": [
    "# split 90% modeling and 10 % holdout for prediction\n",
    "df_train, df_holdout= train_test_split(pca_df, test_size=0.10, train_size=0.90, stratify=pca_df['ordered'])\n",
    "\n",
    "# split the 5% into half for validation and half for testing\n",
    "df_val, df_test = train_test_split(df_holdout, test_size=0.5, train_size=0.5, stratify=df_holdout['ordered'])"
   ]
  },
  {
   "cell_type": "code",
   "execution_count": null,
   "id": "38167f76-e21a-4ad2-ad60-e65ea2faeb37",
   "metadata": {
    "tags": []
   },
   "outputs": [],
   "source": [
    "df_train.shape"
   ]
  },
  {
   "cell_type": "code",
   "execution_count": null,
   "id": "8dca2715-9551-40d4-adc8-9873745c18e1",
   "metadata": {
    "tags": []
   },
   "outputs": [],
   "source": [
    "df_val.shape"
   ]
  },
  {
   "cell_type": "code",
   "execution_count": null,
   "id": "3462a734-550d-48d4-80ca-00e9cacb6c93",
   "metadata": {},
   "outputs": [],
   "source": [
    "df_test.shape"
   ]
  },
  {
   "cell_type": "markdown",
   "id": "2ff1799a-5101-4d8d-8d1a-ba42217611ea",
   "metadata": {},
   "source": [
    "### Transfer Data to S3 Bucket"
   ]
  },
  {
   "cell_type": "code",
   "execution_count": null,
   "id": "8bf62c84-b105-4337-b296-b1fab493565f",
   "metadata": {
    "tags": []
   },
   "outputs": [],
   "source": [
    "# upload transformed data\n",
    "# save DataFrame to a CSV file\n",
    "pca_df.to_csv('sc_data.csv', index=False)\n",
    "\n",
    "# upload file to S3 bucket\n",
    "s3 = boto3.client('s3')\n",
    "s3.upload_file('sc_data.csv', bucket, 'clean-data/sc_data.csv')"
   ]
  },
  {
   "cell_type": "code",
   "execution_count": null,
   "id": "e709444c-168b-496c-9ed5-93463679ba20",
   "metadata": {},
   "outputs": [],
   "source": [
    "# upload train data\n",
    "# save DataFrame to a CSV file\n",
    "df_train.to_csv('train_data.csv', index=False)\n",
    "\n",
    "# upload file to S3 bucket\n",
    "s3 = boto3.client('s3')\n",
    "s3.upload_file('train_data.csv', bucket, 'train-data/train_data.csv')"
   ]
  },
  {
   "cell_type": "code",
   "execution_count": null,
   "id": "773798e0-83f5-417f-b62d-9bbbdd800626",
   "metadata": {},
   "outputs": [],
   "source": [
    "# upload validation data\n",
    "# save DataFrame to a CSV file\n",
    "df_val.to_csv('validation_data.csv', index=False)\n",
    "\n",
    "# upload file to S3 bucket\n",
    "s3 = boto3.client('s3')\n",
    "s3.upload_file('validation_data.csv', bucket, 'validation-data/validation_data.csv')"
   ]
  },
  {
   "cell_type": "code",
   "execution_count": null,
   "id": "11502a6e-5a7e-45b3-b935-b3d07e9dcba2",
   "metadata": {},
   "outputs": [],
   "source": [
    "# upload test data\n",
    "# save DataFrame to a CSV file\n",
    "df_test.to_csv('test_data.csv', index=False)\n",
    "\n",
    "# upload file to S3 bucket\n",
    "s3 = boto3.client('s3')\n",
    "s3.upload_file('test_data.csv', bucket, 'test-data/test_data.csv')"
   ]
  },
  {
   "cell_type": "markdown",
   "id": "532511b2-07dc-4616-aafd-ca253fcc69fe",
   "metadata": {},
   "source": [
    "## Modeling"
   ]
  },
  {
   "cell_type": "code",
   "execution_count": null,
   "id": "07dc98db-6174-44d9-956e-8fe39de122d9",
   "metadata": {},
   "outputs": [],
   "source": [
    "!pip install -q autogluon\n",
    "from autogluon.tabular import TabularDataset, TabularPredictor\n",
    "from autogluon.tabular import TabularDataset, TabularPredictor\n",
    "from tabulate import tabulate"
   ]
  },
  {
   "cell_type": "code",
   "execution_count": null,
   "id": "84131f53-c4ee-4204-828e-e77305d3dd8d",
   "metadata": {
    "tags": []
   },
   "outputs": [],
   "source": [
    "# specify locations for train and test data\n",
    "data_root = 's3://sc-cosmetics/'\n",
    "train_data = TabularDataset(data_root + 'train-data/train_data.csv')\n",
    "test_data = TabularDataset(data_root + 'test-data/test_data.csv')\n",
    "\n",
    "# fit models\n",
    "predictor = TabularPredictor(label='ordered').fit(train_data=train_data)\n",
    "\n",
    "# predictions for the best model\n",
    "predictions = predictor.predict(test_data)"
   ]
  },
  {
   "cell_type": "markdown",
   "id": "425bca3f-60d3-4cae-b2df-89e2f48bda91",
   "metadata": {},
   "source": [
    "The best model is WeightedEnsemble_L2. "
   ]
  },
  {
   "cell_type": "code",
   "execution_count": null,
   "id": "d76294cd-9302-40e4-b00f-7ecdcd2fe6b5",
   "metadata": {
    "tags": []
   },
   "outputs": [],
   "source": [
    "# get information about the models used in the predictor\n",
    "predictor.leaderboard(test_data)"
   ]
  },
  {
   "cell_type": "code",
   "execution_count": null,
   "id": "86d0fb9f-8b5a-48c8-bda6-45bc05899e10",
   "metadata": {
    "tags": []
   },
   "outputs": [],
   "source": [
    "# define predictor path \n",
    "predictor.path "
   ]
  },
  {
   "cell_type": "code",
   "execution_count": null,
   "id": "01350d3f-d651-4cca-9900-201146fd3962",
   "metadata": {
    "tags": []
   },
   "outputs": [],
   "source": [
    "# load predictor to specified path \n",
    "predictor = TabularPredictor.load(predictor.path)\n",
    "predictor "
   ]
  },
  {
   "cell_type": "code",
   "execution_count": null,
   "id": "b4958962-a200-41ed-a228-b737d416124b",
   "metadata": {
    "tags": []
   },
   "outputs": [],
   "source": [
    "# filter for top model (WeightedEnsemble_L2)\n",
    "weighted_ensemble_row = leaderboard[leaderboard['model'] == 'WeightedEnsemble_L2']\n",
    "\n",
    "# extract hyperparameters \n",
    "we2_hyperparameters = weighted_ensemble_row['hyperparameters'].iloc[0]\n",
    "\n",
    "# print hyperparameters\n",
    "print(\"Hyperparameters of WeightedEnsemble_L2 model:\")\n",
    "print(we2_hyperparameters)"
   ]
  },
  {
   "cell_type": "code",
   "execution_count": null,
   "id": "826ee7ad-0862-4f94-9638-2505e169386c",
   "metadata": {
    "tags": []
   },
   "outputs": [],
   "source": [
    "# define s3 bucket\n",
    "bucket_name = 'sc-cosmetics'\n",
    "s3_folder_path = 'autogluon-models'\n",
    "\n",
    "# get local model directory path from the predictor\n",
    "local_model_directory = predictor.path\n",
    "\n",
    "# initialize the S3 client\n",
    "s3_client = boto3.client('s3')\n",
    "\n",
    "# upload modle files to s3\n",
    "for root, dirs, files in os.walk(local_model_directory):\n",
    "    for file in files:\n",
    "        # Get the local file path\n",
    "        local_file_path = os.path.join(root, file)\n",
    "        # Determine the relative path within the directory\n",
    "        relative_file_path = os.path.relpath(local_file_path, local_model_directory)\n",
    "        # Construct the S3 key\n",
    "        s3_key = os.path.join(s3_folder_path, relative_file_path)\n",
    "        # Upload the file to S3\n",
    "        s3_client.upload_file(local_file_path, bucket_name, s3_key)"
   ]
  },
  {
   "cell_type": "raw",
   "id": "cd8de3be-7a21-43ad-a039-a91965b63c18",
   "metadata": {
    "tags": []
   },
   "source": [
    "from sagemaker import get_execution_role, Model\n",
    "from sagemaker import Session\n",
    "\n",
    "# Set the region to us-west-2\n",
    "region = boto3.Session().region_name\n",
    "\n",
    "# Create a SageMaker session in the specified region\n",
    "sagemaker_session = Session(boto3.Session(region_name=my_region))\n",
    "\n",
    "# Define IAM role\n",
    "role = get_execution_role()\n",
    "\n",
    "# Define the path to your AutoGluon model in S3\n",
    "s3_model_path = 's3://sc-cosmetics/autogluon-models'\n",
    "\n",
    "# Create a SageMaker Model instance\n",
    "model = Model(\n",
    "    image_uri=container,\n",
    "    model_data=s3_model_path,\n",
    "    role=role,\n",
    "    sagemaker_session=sagemaker_session\n",
    ")\n",
    "\n",
    "# Deploy the model as an endpoint\n",
    "predictor = model.deploy(\n",
    "    initial_instance_count=1,\n",
    "    instance_type='ml.t3.large'\n",
    ")"
   ]
  },
  {
   "cell_type": "markdown",
   "id": "49511f0c-9d4a-4edd-a515-aeef42c189da",
   "metadata": {
    "tags": []
   },
   "source": [
    "### Performance Metrics"
   ]
  },
  {
   "cell_type": "code",
   "execution_count": null,
   "id": "167e6460-ad30-48b8-afa1-d08cb56bfa7c",
   "metadata": {
    "tags": []
   },
   "outputs": [],
   "source": [
    "# compute performance metrics\n",
    "performance = predictor.evaluate(test_data)\n",
    "performance['ROC AUC'] = performance.pop('roc_auc') # add AUC ROC score\n",
    "\n",
    "# print the performance metrics\n",
    "df_performance = pd.DataFrame.from_dict(performance, orient='index', columns=['Value'])\n",
    "\n",
    "# convert into tabular format\n",
    "print(tabulate(df_performance, headers='keys', tablefmt='pipe'))"
   ]
  },
  {
   "cell_type": "markdown",
   "id": "5e2511a6-f3c5-43e9-b429-27e82cd6bb59",
   "metadata": {},
   "source": [
    "#### Confusion Matrix "
   ]
  },
  {
   "cell_type": "code",
   "execution_count": null,
   "id": "2801a173-64e4-473a-9afb-f6d6fd5383e7",
   "metadata": {
    "tags": []
   },
   "outputs": [],
   "source": [
    "# confusion matrix\n",
    "conf_matrix = confusion_matrix(test_data['ordered'], predictions)\n",
    "\n",
    "# plot confusion matrix\n",
    "plt.figure(figsize=(8, 6))\n",
    "sns.heatmap(conf_matrix, annot=True, fmt='d', cmap = 'RdBu', cbar=False)\n",
    "plt.xlabel('Predicted labels')\n",
    "plt.ylabel('True labels')\n",
    "plt.title('Confusion Matrix')\n",
    "plt.show()"
   ]
  },
  {
   "cell_type": "markdown",
   "id": "62b0d43b-b123-40e5-8cb5-4bb3d8d74a8d",
   "metadata": {},
   "source": [
    "#### ROC Curve AUC "
   ]
  },
  {
   "cell_type": "code",
   "execution_count": null,
   "id": "9c3c4f62-df0a-41e6-bb52-290ef4aa4489",
   "metadata": {
    "tags": []
   },
   "outputs": [],
   "source": [
    "# get predictions\n",
    "y_probs = predictor.predict_proba(test_data)[1] \n",
    "y_true = test_data['ordered'].values"
   ]
  },
  {
   "cell_type": "code",
   "execution_count": null,
   "id": "77c26538-b437-40fc-bc6b-02ace89ddedc",
   "metadata": {
    "tags": []
   },
   "outputs": [],
   "source": [
    "# compute ROC curve and AUC\n",
    "fpr, tpr, thresholds = roc_curve(y_true, y_probs)\n",
    "auc_score = roc_auc_score(y_true, y_probs)\n",
    "\n",
    "# plot ROC curve\n",
    "plt.figure(figsize=(8, 6))\n",
    "plt.plot(fpr, tpr, label='ROC curve (AUC = {:.4f})'.format(auc_score))\n",
    "plt.plot([0, 1], [0, 1], 'k--')  # Diagonal line representing random guessing\n",
    "plt.xlabel('False Positive Rate')\n",
    "plt.ylabel('True Positive Rate')\n",
    "plt.title('Receiver Operating Characteristic (ROC) Curve')\n",
    "plt.legend()\n",
    "plt.grid(True)\n",
    "plt.show()"
   ]
  },
  {
   "cell_type": "markdown",
   "id": "55f96155-134b-4355-a860-a6cacbef3b8f",
   "metadata": {},
   "source": [
    "#### Precision Recall Curve"
   ]
  },
  {
   "cell_type": "code",
   "execution_count": null,
   "id": "958bb0ea-a07f-489f-9432-dcedebae8e37",
   "metadata": {
    "tags": []
   },
   "outputs": [],
   "source": [
    "# precision recall curve\n",
    "precision, recall, _ = precision_recall_curve(y_true, y_probs)\n",
    "average_precision = average_precision_score(y_true, y_probs)\n",
    "\n",
    "# plot precision recall curve\n",
    "plt.figure(figsize=(8, 6))\n",
    "plt.plot(recall, precision, label=f'Precision-Recall curve (AP = {average_precision:.2f})')\n",
    "plt.xlabel('Recall')\n",
    "plt.ylabel('Precision')\n",
    "plt.title('Precision-Recall Curve')\n",
    "plt.legend()\n",
    "plt.grid(True)\n",
    "plt.show()"
   ]
  },
  {
   "cell_type": "markdown",
   "id": "26a5d21b-59ab-4dba-8cf9-ccad32732563",
   "metadata": {},
   "source": [
    "#### Gain Curve"
   ]
  },
  {
   "cell_type": "code",
   "execution_count": null,
   "id": "cbde9d74-5e58-4e74-9574-781ab950853a",
   "metadata": {
    "tags": []
   },
   "outputs": [],
   "source": [
    "# gain curve\n",
    "gains = np.cumsum(np.sort(y_probs)[::-1]) / np.sum(y_probs)\n",
    "percentile = np.arange(0, len(gains)) / len(gains) * 100\n",
    "\n",
    "# plot gain curve\n",
    "plt.figure(figsize=(8, 6))\n",
    "plt.plot(percentile, gains, label='Gain Curve')\n",
    "plt.xlabel('Percentage of instances (descending by predicted probability)')\n",
    "plt.ylabel('Cumulative gains')\n",
    "plt.title('Gain Curve')\n",
    "plt.legend()\n",
    "plt.grid(True)\n",
    "plt.show()"
   ]
  }
 ],
 "metadata": {
  "availableInstances": [
   {
    "_defaultOrder": 0,
    "_isFastLaunch": true,
    "category": "General purpose",
    "gpuNum": 0,
    "hideHardwareSpecs": false,
    "memoryGiB": 4,
    "name": "ml.t3.medium",
    "vcpuNum": 2
   },
   {
    "_defaultOrder": 1,
    "_isFastLaunch": false,
    "category": "General purpose",
    "gpuNum": 0,
    "hideHardwareSpecs": false,
    "memoryGiB": 8,
    "name": "ml.t3.large",
    "vcpuNum": 2
   },
   {
    "_defaultOrder": 2,
    "_isFastLaunch": false,
    "category": "General purpose",
    "gpuNum": 0,
    "hideHardwareSpecs": false,
    "memoryGiB": 16,
    "name": "ml.t3.xlarge",
    "vcpuNum": 4
   },
   {
    "_defaultOrder": 3,
    "_isFastLaunch": false,
    "category": "General purpose",
    "gpuNum": 0,
    "hideHardwareSpecs": false,
    "memoryGiB": 32,
    "name": "ml.t3.2xlarge",
    "vcpuNum": 8
   },
   {
    "_defaultOrder": 4,
    "_isFastLaunch": true,
    "category": "General purpose",
    "gpuNum": 0,
    "hideHardwareSpecs": false,
    "memoryGiB": 8,
    "name": "ml.m5.large",
    "vcpuNum": 2
   },
   {
    "_defaultOrder": 5,
    "_isFastLaunch": false,
    "category": "General purpose",
    "gpuNum": 0,
    "hideHardwareSpecs": false,
    "memoryGiB": 16,
    "name": "ml.m5.xlarge",
    "vcpuNum": 4
   },
   {
    "_defaultOrder": 6,
    "_isFastLaunch": false,
    "category": "General purpose",
    "gpuNum": 0,
    "hideHardwareSpecs": false,
    "memoryGiB": 32,
    "name": "ml.m5.2xlarge",
    "vcpuNum": 8
   },
   {
    "_defaultOrder": 7,
    "_isFastLaunch": false,
    "category": "General purpose",
    "gpuNum": 0,
    "hideHardwareSpecs": false,
    "memoryGiB": 64,
    "name": "ml.m5.4xlarge",
    "vcpuNum": 16
   },
   {
    "_defaultOrder": 8,
    "_isFastLaunch": false,
    "category": "General purpose",
    "gpuNum": 0,
    "hideHardwareSpecs": false,
    "memoryGiB": 128,
    "name": "ml.m5.8xlarge",
    "vcpuNum": 32
   },
   {
    "_defaultOrder": 9,
    "_isFastLaunch": false,
    "category": "General purpose",
    "gpuNum": 0,
    "hideHardwareSpecs": false,
    "memoryGiB": 192,
    "name": "ml.m5.12xlarge",
    "vcpuNum": 48
   },
   {
    "_defaultOrder": 10,
    "_isFastLaunch": false,
    "category": "General purpose",
    "gpuNum": 0,
    "hideHardwareSpecs": false,
    "memoryGiB": 256,
    "name": "ml.m5.16xlarge",
    "vcpuNum": 64
   },
   {
    "_defaultOrder": 11,
    "_isFastLaunch": false,
    "category": "General purpose",
    "gpuNum": 0,
    "hideHardwareSpecs": false,
    "memoryGiB": 384,
    "name": "ml.m5.24xlarge",
    "vcpuNum": 96
   },
   {
    "_defaultOrder": 12,
    "_isFastLaunch": false,
    "category": "General purpose",
    "gpuNum": 0,
    "hideHardwareSpecs": false,
    "memoryGiB": 8,
    "name": "ml.m5d.large",
    "vcpuNum": 2
   },
   {
    "_defaultOrder": 13,
    "_isFastLaunch": false,
    "category": "General purpose",
    "gpuNum": 0,
    "hideHardwareSpecs": false,
    "memoryGiB": 16,
    "name": "ml.m5d.xlarge",
    "vcpuNum": 4
   },
   {
    "_defaultOrder": 14,
    "_isFastLaunch": false,
    "category": "General purpose",
    "gpuNum": 0,
    "hideHardwareSpecs": false,
    "memoryGiB": 32,
    "name": "ml.m5d.2xlarge",
    "vcpuNum": 8
   },
   {
    "_defaultOrder": 15,
    "_isFastLaunch": false,
    "category": "General purpose",
    "gpuNum": 0,
    "hideHardwareSpecs": false,
    "memoryGiB": 64,
    "name": "ml.m5d.4xlarge",
    "vcpuNum": 16
   },
   {
    "_defaultOrder": 16,
    "_isFastLaunch": false,
    "category": "General purpose",
    "gpuNum": 0,
    "hideHardwareSpecs": false,
    "memoryGiB": 128,
    "name": "ml.m5d.8xlarge",
    "vcpuNum": 32
   },
   {
    "_defaultOrder": 17,
    "_isFastLaunch": false,
    "category": "General purpose",
    "gpuNum": 0,
    "hideHardwareSpecs": false,
    "memoryGiB": 192,
    "name": "ml.m5d.12xlarge",
    "vcpuNum": 48
   },
   {
    "_defaultOrder": 18,
    "_isFastLaunch": false,
    "category": "General purpose",
    "gpuNum": 0,
    "hideHardwareSpecs": false,
    "memoryGiB": 256,
    "name": "ml.m5d.16xlarge",
    "vcpuNum": 64
   },
   {
    "_defaultOrder": 19,
    "_isFastLaunch": false,
    "category": "General purpose",
    "gpuNum": 0,
    "hideHardwareSpecs": false,
    "memoryGiB": 384,
    "name": "ml.m5d.24xlarge",
    "vcpuNum": 96
   },
   {
    "_defaultOrder": 20,
    "_isFastLaunch": false,
    "category": "General purpose",
    "gpuNum": 0,
    "hideHardwareSpecs": true,
    "memoryGiB": 0,
    "name": "ml.geospatial.interactive",
    "supportedImageNames": [
     "sagemaker-geospatial-v1-0"
    ],
    "vcpuNum": 0
   },
   {
    "_defaultOrder": 21,
    "_isFastLaunch": true,
    "category": "Compute optimized",
    "gpuNum": 0,
    "hideHardwareSpecs": false,
    "memoryGiB": 4,
    "name": "ml.c5.large",
    "vcpuNum": 2
   },
   {
    "_defaultOrder": 22,
    "_isFastLaunch": false,
    "category": "Compute optimized",
    "gpuNum": 0,
    "hideHardwareSpecs": false,
    "memoryGiB": 8,
    "name": "ml.c5.xlarge",
    "vcpuNum": 4
   },
   {
    "_defaultOrder": 23,
    "_isFastLaunch": false,
    "category": "Compute optimized",
    "gpuNum": 0,
    "hideHardwareSpecs": false,
    "memoryGiB": 16,
    "name": "ml.c5.2xlarge",
    "vcpuNum": 8
   },
   {
    "_defaultOrder": 24,
    "_isFastLaunch": false,
    "category": "Compute optimized",
    "gpuNum": 0,
    "hideHardwareSpecs": false,
    "memoryGiB": 32,
    "name": "ml.c5.4xlarge",
    "vcpuNum": 16
   },
   {
    "_defaultOrder": 25,
    "_isFastLaunch": false,
    "category": "Compute optimized",
    "gpuNum": 0,
    "hideHardwareSpecs": false,
    "memoryGiB": 72,
    "name": "ml.c5.9xlarge",
    "vcpuNum": 36
   },
   {
    "_defaultOrder": 26,
    "_isFastLaunch": false,
    "category": "Compute optimized",
    "gpuNum": 0,
    "hideHardwareSpecs": false,
    "memoryGiB": 96,
    "name": "ml.c5.12xlarge",
    "vcpuNum": 48
   },
   {
    "_defaultOrder": 27,
    "_isFastLaunch": false,
    "category": "Compute optimized",
    "gpuNum": 0,
    "hideHardwareSpecs": false,
    "memoryGiB": 144,
    "name": "ml.c5.18xlarge",
    "vcpuNum": 72
   },
   {
    "_defaultOrder": 28,
    "_isFastLaunch": false,
    "category": "Compute optimized",
    "gpuNum": 0,
    "hideHardwareSpecs": false,
    "memoryGiB": 192,
    "name": "ml.c5.24xlarge",
    "vcpuNum": 96
   },
   {
    "_defaultOrder": 29,
    "_isFastLaunch": true,
    "category": "Accelerated computing",
    "gpuNum": 1,
    "hideHardwareSpecs": false,
    "memoryGiB": 16,
    "name": "ml.g4dn.xlarge",
    "vcpuNum": 4
   },
   {
    "_defaultOrder": 30,
    "_isFastLaunch": false,
    "category": "Accelerated computing",
    "gpuNum": 1,
    "hideHardwareSpecs": false,
    "memoryGiB": 32,
    "name": "ml.g4dn.2xlarge",
    "vcpuNum": 8
   },
   {
    "_defaultOrder": 31,
    "_isFastLaunch": false,
    "category": "Accelerated computing",
    "gpuNum": 1,
    "hideHardwareSpecs": false,
    "memoryGiB": 64,
    "name": "ml.g4dn.4xlarge",
    "vcpuNum": 16
   },
   {
    "_defaultOrder": 32,
    "_isFastLaunch": false,
    "category": "Accelerated computing",
    "gpuNum": 1,
    "hideHardwareSpecs": false,
    "memoryGiB": 128,
    "name": "ml.g4dn.8xlarge",
    "vcpuNum": 32
   },
   {
    "_defaultOrder": 33,
    "_isFastLaunch": false,
    "category": "Accelerated computing",
    "gpuNum": 4,
    "hideHardwareSpecs": false,
    "memoryGiB": 192,
    "name": "ml.g4dn.12xlarge",
    "vcpuNum": 48
   },
   {
    "_defaultOrder": 34,
    "_isFastLaunch": false,
    "category": "Accelerated computing",
    "gpuNum": 1,
    "hideHardwareSpecs": false,
    "memoryGiB": 256,
    "name": "ml.g4dn.16xlarge",
    "vcpuNum": 64
   },
   {
    "_defaultOrder": 35,
    "_isFastLaunch": false,
    "category": "Accelerated computing",
    "gpuNum": 1,
    "hideHardwareSpecs": false,
    "memoryGiB": 61,
    "name": "ml.p3.2xlarge",
    "vcpuNum": 8
   },
   {
    "_defaultOrder": 36,
    "_isFastLaunch": false,
    "category": "Accelerated computing",
    "gpuNum": 4,
    "hideHardwareSpecs": false,
    "memoryGiB": 244,
    "name": "ml.p3.8xlarge",
    "vcpuNum": 32
   },
   {
    "_defaultOrder": 37,
    "_isFastLaunch": false,
    "category": "Accelerated computing",
    "gpuNum": 8,
    "hideHardwareSpecs": false,
    "memoryGiB": 488,
    "name": "ml.p3.16xlarge",
    "vcpuNum": 64
   },
   {
    "_defaultOrder": 38,
    "_isFastLaunch": false,
    "category": "Accelerated computing",
    "gpuNum": 8,
    "hideHardwareSpecs": false,
    "memoryGiB": 768,
    "name": "ml.p3dn.24xlarge",
    "vcpuNum": 96
   },
   {
    "_defaultOrder": 39,
    "_isFastLaunch": false,
    "category": "Memory Optimized",
    "gpuNum": 0,
    "hideHardwareSpecs": false,
    "memoryGiB": 16,
    "name": "ml.r5.large",
    "vcpuNum": 2
   },
   {
    "_defaultOrder": 40,
    "_isFastLaunch": false,
    "category": "Memory Optimized",
    "gpuNum": 0,
    "hideHardwareSpecs": false,
    "memoryGiB": 32,
    "name": "ml.r5.xlarge",
    "vcpuNum": 4
   },
   {
    "_defaultOrder": 41,
    "_isFastLaunch": false,
    "category": "Memory Optimized",
    "gpuNum": 0,
    "hideHardwareSpecs": false,
    "memoryGiB": 64,
    "name": "ml.r5.2xlarge",
    "vcpuNum": 8
   },
   {
    "_defaultOrder": 42,
    "_isFastLaunch": false,
    "category": "Memory Optimized",
    "gpuNum": 0,
    "hideHardwareSpecs": false,
    "memoryGiB": 128,
    "name": "ml.r5.4xlarge",
    "vcpuNum": 16
   },
   {
    "_defaultOrder": 43,
    "_isFastLaunch": false,
    "category": "Memory Optimized",
    "gpuNum": 0,
    "hideHardwareSpecs": false,
    "memoryGiB": 256,
    "name": "ml.r5.8xlarge",
    "vcpuNum": 32
   },
   {
    "_defaultOrder": 44,
    "_isFastLaunch": false,
    "category": "Memory Optimized",
    "gpuNum": 0,
    "hideHardwareSpecs": false,
    "memoryGiB": 384,
    "name": "ml.r5.12xlarge",
    "vcpuNum": 48
   },
   {
    "_defaultOrder": 45,
    "_isFastLaunch": false,
    "category": "Memory Optimized",
    "gpuNum": 0,
    "hideHardwareSpecs": false,
    "memoryGiB": 512,
    "name": "ml.r5.16xlarge",
    "vcpuNum": 64
   },
   {
    "_defaultOrder": 46,
    "_isFastLaunch": false,
    "category": "Memory Optimized",
    "gpuNum": 0,
    "hideHardwareSpecs": false,
    "memoryGiB": 768,
    "name": "ml.r5.24xlarge",
    "vcpuNum": 96
   },
   {
    "_defaultOrder": 47,
    "_isFastLaunch": false,
    "category": "Accelerated computing",
    "gpuNum": 1,
    "hideHardwareSpecs": false,
    "memoryGiB": 16,
    "name": "ml.g5.xlarge",
    "vcpuNum": 4
   },
   {
    "_defaultOrder": 48,
    "_isFastLaunch": false,
    "category": "Accelerated computing",
    "gpuNum": 1,
    "hideHardwareSpecs": false,
    "memoryGiB": 32,
    "name": "ml.g5.2xlarge",
    "vcpuNum": 8
   },
   {
    "_defaultOrder": 49,
    "_isFastLaunch": false,
    "category": "Accelerated computing",
    "gpuNum": 1,
    "hideHardwareSpecs": false,
    "memoryGiB": 64,
    "name": "ml.g5.4xlarge",
    "vcpuNum": 16
   },
   {
    "_defaultOrder": 50,
    "_isFastLaunch": false,
    "category": "Accelerated computing",
    "gpuNum": 1,
    "hideHardwareSpecs": false,
    "memoryGiB": 128,
    "name": "ml.g5.8xlarge",
    "vcpuNum": 32
   },
   {
    "_defaultOrder": 51,
    "_isFastLaunch": false,
    "category": "Accelerated computing",
    "gpuNum": 1,
    "hideHardwareSpecs": false,
    "memoryGiB": 256,
    "name": "ml.g5.16xlarge",
    "vcpuNum": 64
   },
   {
    "_defaultOrder": 52,
    "_isFastLaunch": false,
    "category": "Accelerated computing",
    "gpuNum": 4,
    "hideHardwareSpecs": false,
    "memoryGiB": 192,
    "name": "ml.g5.12xlarge",
    "vcpuNum": 48
   },
   {
    "_defaultOrder": 53,
    "_isFastLaunch": false,
    "category": "Accelerated computing",
    "gpuNum": 4,
    "hideHardwareSpecs": false,
    "memoryGiB": 384,
    "name": "ml.g5.24xlarge",
    "vcpuNum": 96
   },
   {
    "_defaultOrder": 54,
    "_isFastLaunch": false,
    "category": "Accelerated computing",
    "gpuNum": 8,
    "hideHardwareSpecs": false,
    "memoryGiB": 768,
    "name": "ml.g5.48xlarge",
    "vcpuNum": 192
   },
   {
    "_defaultOrder": 55,
    "_isFastLaunch": false,
    "category": "Accelerated computing",
    "gpuNum": 8,
    "hideHardwareSpecs": false,
    "memoryGiB": 1152,
    "name": "ml.p4d.24xlarge",
    "vcpuNum": 96
   },
   {
    "_defaultOrder": 56,
    "_isFastLaunch": false,
    "category": "Accelerated computing",
    "gpuNum": 8,
    "hideHardwareSpecs": false,
    "memoryGiB": 1152,
    "name": "ml.p4de.24xlarge",
    "vcpuNum": 96
   },
   {
    "_defaultOrder": 57,
    "_isFastLaunch": false,
    "category": "Accelerated computing",
    "gpuNum": 0,
    "hideHardwareSpecs": false,
    "memoryGiB": 32,
    "name": "ml.trn1.2xlarge",
    "vcpuNum": 8
   },
   {
    "_defaultOrder": 58,
    "_isFastLaunch": false,
    "category": "Accelerated computing",
    "gpuNum": 0,
    "hideHardwareSpecs": false,
    "memoryGiB": 512,
    "name": "ml.trn1.32xlarge",
    "vcpuNum": 128
   },
   {
    "_defaultOrder": 59,
    "_isFastLaunch": false,
    "category": "Accelerated computing",
    "gpuNum": 0,
    "hideHardwareSpecs": false,
    "memoryGiB": 512,
    "name": "ml.trn1n.32xlarge",
    "vcpuNum": 128
   }
  ],
  "instance_type": "ml.t3.medium",
  "kernelspec": {
   "display_name": "Python 3 (Data Science 2.0)",
   "language": "python",
   "name": "python3__SAGEMAKER_INTERNAL__arn:aws:sagemaker:us-east-1:081325390199:image/sagemaker-data-science-38"
  },
  "language_info": {
   "codemirror_mode": {
    "name": "ipython",
    "version": 3
   },
   "file_extension": ".py",
   "mimetype": "text/x-python",
   "name": "python",
   "nbconvert_exporter": "python",
   "pygments_lexer": "ipython3",
   "version": "3.8.13"
  }
 },
 "nbformat": 4,
 "nbformat_minor": 5
}
